{
 "cells": [
  {
   "cell_type": "code",
   "execution_count": 4,
   "metadata": {},
   "outputs": [
    {
     "name": "stderr",
     "output_type": "stream",
     "text": [
      "2021-11-05 22:22:05,988 [MainThread  ] [INFO ]  Retrieving http://search.maven.org/remotecontent?filepath=org/apache/tika/tika-server/1.24/tika-server-1.24.jar to /var/folders/4k/nydrvr754fs2kgfwyb9bc8n80000gn/T/tika-server.jar.\n",
      "2021-11-05 22:22:19,295 [MainThread  ] [INFO ]  Retrieving http://search.maven.org/remotecontent?filepath=org/apache/tika/tika-server/1.24/tika-server-1.24.jar.md5 to /var/folders/4k/nydrvr754fs2kgfwyb9bc8n80000gn/T/tika-server.jar.md5.\n",
      "2021-11-05 22:22:20,575 [MainThread  ] [WARNI]  Failed to see startup log message; retrying...\n",
      "2021-11-05 22:22:25,577 [MainThread  ] [WARNI]  Failed to see startup log message; retrying...\n"
     ]
    }
   ],
   "source": [
    "from tika import parser\n",
    "pdf_path = \"./친환경/SK20210908두산퓨얼셀.pdf\"\n",
    "parsed = parser.from_file(pdf_path)"
   ]
  },
  {
   "cell_type": "code",
   "execution_count": 6,
   "metadata": {},
   "outputs": [],
   "source": [
    "txt = open('sk20210908두산퓨얼셀.txt', 'w', encoding = 'utf8')\n",
    "print(parsed['content'].strip(), file = txt)\n",
    "txt.close()"
   ]
  },
  {
   "cell_type": "code",
   "execution_count": 7,
   "metadata": {},
   "outputs": [
    {
     "data": {
      "text/plain": [
       "{'Author': 'LEEAERI',\n",
       " 'Content-Type': 'application/pdf',\n",
       " 'Creation-Date': '2021-09-07T06:48:37Z',\n",
       " 'Last-Modified': '2021-09-07T06:48:44Z',\n",
       " 'Last-Save-Date': '2021-09-07T06:48:44Z',\n",
       " 'X-Parsed-By': ['org.apache.tika.parser.DefaultParser',\n",
       "  'org.apache.tika.parser.pdf.PDFParser'],\n",
       " 'X-TIKA:content_handler': 'ToTextContentHandler',\n",
       " 'X-TIKA:embedded_depth': '0',\n",
       " 'X-TIKA:parse_time_millis': '1361',\n",
       " 'access_permission:assemble_document': 'true',\n",
       " 'access_permission:can_modify': 'true',\n",
       " 'access_permission:can_print': 'true',\n",
       " 'access_permission:can_print_degraded': 'true',\n",
       " 'access_permission:extract_content': 'true',\n",
       " 'access_permission:extract_for_accessibility': 'true',\n",
       " 'access_permission:fill_in_form': 'true',\n",
       " 'access_permission:modify_annotations': 'true',\n",
       " 'created': '2021-09-07T06:48:37Z',\n",
       " 'creator': 'LEEAERI',\n",
       " 'date': '2021-09-07T06:48:44Z',\n",
       " 'dc:creator': 'LEEAERI',\n",
       " 'dc:format': 'application/pdf; version=1.6',\n",
       " 'dc:title': '슬라이드 1',\n",
       " 'dcterms:created': '2021-09-07T06:48:37Z',\n",
       " 'dcterms:modified': '2021-09-07T06:48:44Z',\n",
       " 'meta:author': 'LEEAERI',\n",
       " 'meta:creation-date': '2021-09-07T06:48:37Z',\n",
       " 'meta:save-date': '2021-09-07T06:48:44Z',\n",
       " 'modified': '2021-09-07T06:48:44Z',\n",
       " 'pdf:PDFVersion': '1.6',\n",
       " 'pdf:charsPerPage': ['1040', '331', '877', '384', '42', '744', '815', '552'],\n",
       " 'pdf:docinfo:created': '2021-09-07T06:48:37Z',\n",
       " 'pdf:docinfo:creator': 'LEEAERI',\n",
       " 'pdf:docinfo:creator_tool': 'PowerPoint용 Acrobat PDFMaker 21',\n",
       " 'pdf:docinfo:modified': '2021-09-07T06:48:44Z',\n",
       " 'pdf:docinfo:producer': 'Adobe PDF Library 21.5.92',\n",
       " 'pdf:docinfo:title': '슬라이드 1',\n",
       " 'pdf:encrypted': 'false',\n",
       " 'pdf:hasMarkedContent': 'true',\n",
       " 'pdf:hasXFA': 'false',\n",
       " 'pdf:hasXMP': 'true',\n",
       " 'pdf:unmappedUnicodeCharsPerPage': ['0', '0', '0', '0', '0', '0', '0', '0'],\n",
       " 'producer': 'Adobe PDF Library 21.5.92',\n",
       " 'resourceName': \"b'SK20210908\\\\xeb\\\\x91\\\\x90\\\\xec\\\\x82\\\\xb0\\\\xed\\\\x93\\\\xa8\\\\xec\\\\x96\\\\xbc\\\\xec\\\\x85\\\\x80.pdf'\",\n",
       " 'title': '슬라이드 1',\n",
       " 'xmp:CreatorTool': 'PowerPoint용 Acrobat PDFMaker 21',\n",
       " 'xmpMM:DocumentID': 'uuid:471de43e-5eb7-483b-b5cb-b07f395f8434',\n",
       " 'xmpTPg:NPages': '8'}"
      ]
     },
     "execution_count": 7,
     "metadata": {},
     "output_type": "execute_result"
    }
   ],
   "source": [
    "parsed['metadata']"
   ]
  },
  {
   "cell_type": "code",
   "execution_count": null,
   "metadata": {},
   "outputs": [],
   "source": []
  }
 ],
 "metadata": {
  "interpreter": {
   "hash": "40d3a090f54c6569ab1632332b64b2c03c39dcf918b08424e98f38b5ae0af88f"
  },
  "kernelspec": {
   "display_name": "Python 3.8.5 64-bit ('base': conda)",
   "name": "python3"
  },
  "language_info": {
   "codemirror_mode": {
    "name": "ipython",
    "version": 3
   },
   "file_extension": ".py",
   "mimetype": "text/x-python",
   "name": "python",
   "nbconvert_exporter": "python",
   "pygments_lexer": "ipython3",
   "version": "3.8.5"
  },
  "orig_nbformat": 4
 },
 "nbformat": 4,
 "nbformat_minor": 2
}
