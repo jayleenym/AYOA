{
 "cells": [
  {
   "cell_type": "code",
   "execution_count": 1,
   "metadata": {},
   "outputs": [
    {
     "name": "stdout",
     "output_type": "stream",
     "text": [
      "{BrokerMetadata(nodeId='bootstrap-1', host='localhost', port=9092, rack=None), BrokerMetadata(nodeId='bootstrap-0', host='localhost', port=9093, rack=None)}\n"
     ]
    }
   ],
   "source": [
    "from kafka import KafkaProducer\n",
    "from kafka import KafkaConsumer\n",
    "from kafka.client_async import KafkaClient\n",
    "\n",
    "def main():\n",
    "    # 서버 주소 설정\n",
    "    zookeeper_servers = [\"localhost:2181\", \"localhost:2182\"]\n",
    "    # 카프카 서버 설정\n",
    "    bootstrap_servers = [\"localhost:9092\", \"localhost:9093\"]\n",
    "\n",
    "    #브로커 상태 확인\n",
    "    client = KafkaClient(bootstrap_servers=bootstrap_servers)\n",
    "    print(client.cluster.brokers())\n",
    "\n",
    "if __name__ == \"__main__\":\n",
    "    main()"
   ]
  },
  {
   "cell_type": "code",
   "execution_count": null,
   "metadata": {},
   "outputs": [],
   "source": []
  },
  {
   "cell_type": "code",
   "execution_count": null,
   "metadata": {},
   "outputs": [],
   "source": []
  }
 ],
 "metadata": {
  "kernelspec": {
   "display_name": "Python 3",
   "language": "python",
   "name": "python3"
  },
  "language_info": {
   "codemirror_mode": {
    "name": "ipython",
    "version": 3
   },
   "file_extension": ".py",
   "mimetype": "text/x-python",
   "name": "python",
   "nbconvert_exporter": "python",
   "pygments_lexer": "ipython3",
   "version": "3.8.5"
  }
 },
 "nbformat": 4,
 "nbformat_minor": 4
}
