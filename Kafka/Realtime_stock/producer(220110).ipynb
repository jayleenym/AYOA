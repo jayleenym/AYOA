{
 "cells": [
  {
   "cell_type": "code",
   "execution_count": 15,
   "metadata": {},
   "outputs": [],
   "source": [
    "import time\n",
    "import random\n",
    "import datetime\n",
    "import schedule\n",
    "# dc_crawling.py 같은 폴더에 있다고 가정\n",
    "#from dc_crawling import *from kafka impt KafkaProducer"
   ]
  },
  {
   "cell_type": "code",
   "execution_count": 16,
   "metadata": {},
   "outputs": [],
   "source": [
    "from requests.compat import urlparse, urljoin\n",
    "from requests.exceptions import HTTPError\n",
    "import time\n",
    "import sqlite3\n",
    "from requests import Session\n",
    "from bs4 import BeautifulSoup\n",
    "import re\n",
    "import datetime\n",
    "import pandas# as pd\n",
    "import datetime\n",
    "from tqdm import tqdm\n",
    "from collections import defaultdict"
   ]
  },
  {
   "cell_type": "code",
   "execution_count": 17,
   "metadata": {},
   "outputs": [],
   "source": [
    "def download(url, params={}, headers={}, method='GET', limit=3):\n",
    "    try:\n",
    "        session = Session()\n",
    "        resp = session.request(method, url,\n",
    "                               params=params if method.upper() == 'GET' else '',\n",
    "                               data=params if method.upper() == 'POST' else '',\n",
    "                               headers=headers)\n",
    "        resp.raise_for_status()\n",
    "    except HTTPError as e:\n",
    "        if limit > 0 and e.response.status_code >= 500:\n",
    "            print(limit)\n",
    "            time.sleep(60)  # Server Error이기 때문에 delay를 두고 실행하기 위해서 사용한다.\n",
    "            # 보통은 5분에 한 번꼴로 random하게 되도록 설정한다.\n",
    "            download(url, params, headers, method, limit - 1)\n",
    "        else:\n",
    "            print('[{}] '.format(e.response.status_code) + url)\n",
    "            print(e.response.reason)\n",
    "            print(e.response.headers)\n",
    "\n",
    "    return resp"
   ]
  },
  {
   "cell_type": "markdown",
   "metadata": {},
   "source": [
    "# 기존"
   ]
  },
  {
   "cell_type": "code",
   "execution_count": 6,
   "metadata": {
    "scrolled": true
   },
   "outputs": [
    {
     "ename": "NameError",
     "evalue": "name 'KafkaProducer' is not defined",
     "output_type": "error",
     "traceback": [
      "\u001b[0;31m---------------------------------------------------------------------------\u001b[0m",
      "\u001b[0;31mNameError\u001b[0m                                 Traceback (most recent call last)",
      "\u001b[0;32m<ipython-input-6-640b83ed9ca6>\u001b[0m in \u001b[0;36m<module>\u001b[0;34m\u001b[0m\n\u001b[1;32m      2\u001b[0m \u001b[0mbootstrap_servers\u001b[0m \u001b[0;34m=\u001b[0m \u001b[0;34m[\u001b[0m\u001b[0;34m'localhost:9092'\u001b[0m\u001b[0;34m]\u001b[0m\u001b[0;34m\u001b[0m\u001b[0;34m\u001b[0m\u001b[0m\n\u001b[1;32m      3\u001b[0m \u001b[0mtopicName\u001b[0m \u001b[0;34m=\u001b[0m \u001b[0;34m'realtime_stock'\u001b[0m\u001b[0;34m\u001b[0m\u001b[0;34m\u001b[0m\u001b[0m\n\u001b[0;32m----> 4\u001b[0;31m \u001b[0mproducer\u001b[0m \u001b[0;34m=\u001b[0m \u001b[0mKafkaProducer\u001b[0m\u001b[0;34m(\u001b[0m\u001b[0mbootstrap_servers\u001b[0m \u001b[0;34m=\u001b[0m \u001b[0mbootstrap_servers\u001b[0m\u001b[0;34m)\u001b[0m\u001b[0;34m\u001b[0m\u001b[0;34m\u001b[0m\u001b[0m\n\u001b[0m\u001b[1;32m      5\u001b[0m \u001b[0;34m\u001b[0m\u001b[0m\n\u001b[1;32m      6\u001b[0m \u001b[0;34m\u001b[0m\u001b[0m\n",
      "\u001b[0;31mNameError\u001b[0m: name 'KafkaProducer' is not defined"
     ]
    }
   ],
   "source": [
    "#bootstrap_servers = ['localhost:9092','localhost:9093']  # kafka broker ip\n",
    "bootstrap_servers = ['localhost:9092']\n",
    "topicName = 'realtime_stock'\n",
    "producer = KafkaProducer(bootstrap_servers = bootstrap_servers)\n",
    "\n",
    "def stockprice():\n",
    "\n",
    "    codes = {'336260', '009830', '086520', '011930', '018000', '035720', '035420', '036570', \n",
    "    '041140', '018260', '005930', '000660', '011790', '014680', '000990', '023530', '004170', \n",
    "    '008770', '028260', '026960', '105560', '071050', '055550', '316140', '086790', '047080', \n",
    "    '089890', '030350', '230980', '069410'}\n",
    "\n",
    "    now = datetime.datetime.now()\n",
    "\n",
    "    headers = {\"user-agent\": \"Mozilla/5.0 (Windows NT 10.0; Win64; x64) AppleWebKit/537.36 (KHTML, like Gecko) Chrome/92.0.4515.131 Safari/537.36\"}\n",
    "\n",
    "    # ticker 처음부터 다 돌기\n",
    "    for code in codes:\n",
    "        time = datetime.datetime(now.year, now.month, now.day)\n",
    "\n",
    "        if now.weekday() == 5 or now.weekday() == 6:\n",
    "            break\n",
    "\n",
    "        result = list()\n",
    "        pages = range(1, 13)\n",
    "        for page in pages:\n",
    "            url = 'https://finance.naver.com/item/sise_time.nhn?code={}&thistime={}&page={}'.format(code, time.strftime(\"%Y%m%d\")+\"161122\", page)\n",
    "            resp = download(url, headers = headers)\n",
    "            dom = BeautifulSoup(resp.content, 'lxml')\n",
    "\n",
    "            # result = for t, p in zip([i.text for i in dom.select('tr > td:nth-of-type(1) > span')], [i.text for i in dom.select('tr > td:nth-of-type(2) > span')])}\n",
    "            for i in range(len(dom.select('tr > td:nth-of-type(2) > span'))):\n",
    "                # result list에 dictionary 형태로 추가\n",
    "                result.append({\n",
    "                    \n",
    "                    'code':code, \n",
    "                    'date': time.strftime(\"%Y.%m.%d\") + \" \" + dom.select('tr > td:nth-of-type(1) > span')[i].text,\n",
    "                    'price': dom.select('tr > td:nth-of-type(2) > span')[i].text\n",
    "                    }) \n",
    "                \n",
    "                for value in result:\n",
    "                    producer.send(topicName, str(i).encode())\n",
    "                    tim = datetime.datetime.now().strftime('%Y-%m-%d %H:%M:%S')\n",
    "                    producer.send(topicName, tim.encode())\n",
    "                    print(value,\" - \")\n"
   ]
  },
  {
   "cell_type": "code",
   "execution_count": null,
   "metadata": {},
   "outputs": [],
   "source": []
  },
  {
   "cell_type": "code",
   "execution_count": null,
   "metadata": {},
   "outputs": [],
   "source": []
  },
  {
   "cell_type": "code",
   "execution_count": null,
   "metadata": {},
   "outputs": [],
   "source": [
    "# 1월 7일 -> 하루가 지나고 갱신 \n",
    "#=> 이중 딕셔너리 자체를 초기화\n",
    "# 스케쥴러로 9시 시작하니까  -> 그 자체에서 초기화 하던가\n",
    "########## 메인함수에 초반에 초기화 시키는 부분   ==> #토픽 초기화하는 함수 부분 추가하고\n",
    "# 이어서 append..!\n",
    "\n",
    "#1 => 9:00 - 9:04\n",
    "#2 => 9:05 - 9:09\n",
    "#3 => 9:10 - 9:14"
   ]
  },
  {
   "cell_type": "markdown",
   "metadata": {},
   "source": [
    "# Jan 09 수정"
   ]
  },
  {
   "cell_type": "markdown",
   "metadata": {},
   "source": [
    "## def stock => 형태 완성"
   ]
  },
  {
   "cell_type": "code",
   "execution_count": 18,
   "metadata": {},
   "outputs": [],
   "source": [
    "#예진언니 코드 인용 ver\n",
    "\n",
    "codes = {'336260', '009830', '086520', '011930', '018000', '035720', '035420', '036570', \n",
    "'041140', '018260', '005930', '000660', '011790', '014680', '000990', '023530', '004170', \n",
    "'008770', '028260', '026960', '105560', '071050', '055550', '316140', '086790', '047080', \n",
    "'089890', '030350', '230980', '069410'}\n",
    "\n",
    "\n",
    "\n",
    "#starttime => 함수(stock)밖에서 9:05, 9:10 ~\n",
    "result = {}\n",
    "#starttime => 9:00 ~ 16:00 사이인지 체크하는 부분\n",
    "\n",
    "def stock(result, starttime):\n",
    "    now = datetime.datetime.now()\n",
    "    date = datetime.datetime(now.year, now.month, now.day)\n",
    "    \n",
    "    headers = {\"user-agent\": \"Mozilla/5.0 (Windows NT 10.0; Win64; x64) AppleWebKit/537.36 (KHTML, like Gecko) Chrome/92.0.4515.131 Safari/537.36\"}\n",
    "    codestock = defaultdict(lambda : list()) #result (dict)의 value 안에 들어갈 dict의 이름 : codestock\n",
    "    # ticker 처음부터 다 돌기\n",
    "    if starttime < 87:\n",
    "        for code in codes:\n",
    "\n",
    "\n",
    "            url = 'https://finance.naver.com/item/sise_time.nhn?code={}&thistime={}&page={}'.format(code, date.strftime(\"%Y%m%d\")+\"161122\", 1)\n",
    "            resp = download(url, headers = headers)\n",
    "            dom = BeautifulSoup(resp.content, 'lxml')\n",
    "\n",
    "            price = dom.select('tr > td:nth-of-type(2) > span')\n",
    "            time = dom.select('tr > td:nth-of-type(1) > span')\n",
    "\n",
    "\n",
    "                # result = for t, p in zip([i.text for i in dom.select('tr > td:nth-of-type(1) > span')], [i.text for i in dom.select('tr > td:nth-of-type(2) > span')])}\n",
    "            for i in range(len(price)): # 한 종목의 주가\n",
    "                    # result list에 dictionary 형태로 추가\n",
    "                #if i < 5: #5개라고 생각했던 것 => 숫자가 랜덤하게 나오니 수정필요\n",
    "                    \n",
    "                    current_time = time[i].text #time[i].text가 원하는 시간대 안에 있는 건지\n",
    "                    #time = datetime.datetime.strptime(time, \"%H:%M\")\n",
    "                    #if문 추가해서 확인 time[i].text가 원하는 시간대 안에 있는 건지\n",
    "                    if current_time \n",
    "                        current_price = price[i].text \n",
    "                        codestock[code].append((date.strftime(\"%Y.%m.%d\") + \" \" + current_time, current_price) )\n",
    "                    else:\n",
    "                        break\n",
    "\n",
    "        result[starttime] = codestock\n",
    "        starttime += 1\n",
    "        \n",
    "    else:\n",
    "        break\n",
    "        \n",
    "    return result\n",
    "        "
   ]
  },
  {
   "cell_type": "code",
   "execution_count": 13,
   "metadata": {},
   "outputs": [
    {
     "data": {
      "text/plain": [
       "{1: defaultdict(<function __main__.stock.<locals>.<lambda>()>,\n",
       "             {'105560': [('2022.01.10 15:58', '57,800'),\n",
       "               ('2022.01.10 15:56', '57,800'),\n",
       "               ('2022.01.10 15:54', '57,800'),\n",
       "               ('2022.01.10 15:53', '57,800'),\n",
       "               ('2022.01.10 15:52', '57,800')],\n",
       "              '069410': [('2022.01.10 15:54', '10,350'),\n",
       "               ('2022.01.10 15:51', '10,350'),\n",
       "               ('2022.01.10 15:40', '10,350'),\n",
       "               ('2022.01.10 15:30', '10,350'),\n",
       "               ('2022.01.10 15:19', '10,400')],\n",
       "              '036570': [('2022.01.10 15:57', '614,000'),\n",
       "               ('2022.01.10 15:53', '614,000'),\n",
       "               ('2022.01.10 15:52', '614,000'),\n",
       "               ('2022.01.10 15:49', '614,000'),\n",
       "               ('2022.01.10 15:48', '614,000')],\n",
       "              '086520': [('2022.01.10 15:58', '98,300'),\n",
       "               ('2022.01.10 15:56', '98,300'),\n",
       "               ('2022.01.10 15:55', '98,300'),\n",
       "               ('2022.01.10 15:54', '98,300'),\n",
       "               ('2022.01.10 15:53', '98,300')],\n",
       "              '005930': [('2022.01.10 15:58', '78,000'),\n",
       "               ('2022.01.10 15:57', '78,000'),\n",
       "               ('2022.01.10 15:56', '78,000'),\n",
       "               ('2022.01.10 15:55', '78,000'),\n",
       "               ('2022.01.10 15:54', '78,000')],\n",
       "              '089890': [('2022.01.10 15:58', '13,900'),\n",
       "               ('2022.01.10 15:57', '13,900'),\n",
       "               ('2022.01.10 15:47', '13,900'),\n",
       "               ('2022.01.10 15:44', '13,900'),\n",
       "               ('2022.01.10 15:43', '13,900')],\n",
       "              '028260': [('2022.01.10 15:56', '115,000'),\n",
       "               ('2022.01.10 15:49', '115,000'),\n",
       "               ('2022.01.10 15:43', '115,000'),\n",
       "               ('2022.01.10 15:40', '115,000'),\n",
       "               ('2022.01.10 15:30', '115,000')],\n",
       "              '000990': [('2022.01.10 15:58', '78,000'),\n",
       "               ('2022.01.10 15:56', '78,000'),\n",
       "               ('2022.01.10 15:53', '78,000'),\n",
       "               ('2022.01.10 15:48', '78,000'),\n",
       "               ('2022.01.10 15:47', '78,000')],\n",
       "              '071050': [('2022.01.10 15:54', '80,600'),\n",
       "               ('2022.01.10 15:53', '80,600'),\n",
       "               ('2022.01.10 15:48', '80,600'),\n",
       "               ('2022.01.10 15:46', '80,600'),\n",
       "               ('2022.01.10 15:43', '80,600')],\n",
       "              '035720': [('2022.01.10 15:58', '96,600'),\n",
       "               ('2022.01.10 15:57', '96,600'),\n",
       "               ('2022.01.10 15:56', '96,600'),\n",
       "               ('2022.01.10 15:55', '96,600'),\n",
       "               ('2022.01.10 15:54', '96,600')],\n",
       "              '011930': [('2022.01.10 15:57', '2,025'),\n",
       "               ('2022.01.10 15:56', '2,025'),\n",
       "               ('2022.01.10 15:50', '2,025'),\n",
       "               ('2022.01.10 15:49', '2,025'),\n",
       "               ('2022.01.10 15:48', '2,025')],\n",
       "              '336260': [('2022.01.10 15:54', '42,850'),\n",
       "               ('2022.01.10 15:51', '42,850'),\n",
       "               ('2022.01.10 15:49', '42,850'),\n",
       "               ('2022.01.10 15:48', '42,850'),\n",
       "               ('2022.01.10 15:47', '42,850')],\n",
       "              '316140': [('2022.01.10 15:58', '13,950'),\n",
       "               ('2022.01.10 15:57', '13,950'),\n",
       "               ('2022.01.10 15:56', '13,950'),\n",
       "               ('2022.01.10 15:55', '13,950'),\n",
       "               ('2022.01.10 15:54', '13,950')],\n",
       "              '009830': [('2022.01.10 15:58', '38,250'),\n",
       "               ('2022.01.10 15:57', '38,250'),\n",
       "               ('2022.01.10 15:56', '38,250'),\n",
       "               ('2022.01.10 15:55', '38,250'),\n",
       "               ('2022.01.10 15:53', '38,250')],\n",
       "              '030350': [('2022.01.10 15:55', '3,465'),\n",
       "               ('2022.01.10 15:52', '3,465'),\n",
       "               ('2022.01.10 15:44', '3,465'),\n",
       "               ('2022.01.10 15:43', '3,465'),\n",
       "               ('2022.01.10 15:40', '3,465')],\n",
       "              '026960': [('2022.01.10 15:58', '30,150'),\n",
       "               ('2022.01.10 15:57', '30,150'),\n",
       "               ('2022.01.10 15:52', '30,150'),\n",
       "               ('2022.01.10 15:49', '30,150'),\n",
       "               ('2022.01.10 15:47', '30,150')],\n",
       "              '004170': [('2022.01.10 15:58', '233,000'),\n",
       "               ('2022.01.10 15:56', '233,000'),\n",
       "               ('2022.01.10 15:54', '233,000'),\n",
       "               ('2022.01.10 15:53', '233,000'),\n",
       "               ('2022.01.10 15:51', '233,000')],\n",
       "              '055550': [('2022.01.10 15:56', '38,550'),\n",
       "               ('2022.01.10 15:55', '38,550'),\n",
       "               ('2022.01.10 15:54', '38,550'),\n",
       "               ('2022.01.10 15:53', '38,550'),\n",
       "               ('2022.01.10 15:52', '38,550')],\n",
       "              '014680': [('2022.01.10 15:50', '273,000'),\n",
       "               ('2022.01.10 15:49', '273,000'),\n",
       "               ('2022.01.10 15:43', '273,000'),\n",
       "               ('2022.01.10 15:42', '273,000'),\n",
       "               ('2022.01.10 15:40', '273,000')],\n",
       "              '000660': [('2022.01.10 15:58', '124,500'),\n",
       "               ('2022.01.10 15:57', '124,500'),\n",
       "               ('2022.01.10 15:55', '124,500'),\n",
       "               ('2022.01.10 15:53', '124,500'),\n",
       "               ('2022.01.10 15:52', '124,500')],\n",
       "              '011790': [('2022.01.10 15:57', '160,000'),\n",
       "               ('2022.01.10 15:53', '160,000'),\n",
       "               ('2022.01.10 15:50', '160,000'),\n",
       "               ('2022.01.10 15:47', '160,000'),\n",
       "               ('2022.01.10 15:45', '160,000')],\n",
       "              '041140': [('2022.01.10 15:55', '19,800'),\n",
       "               ('2022.01.10 15:54', '19,800'),\n",
       "               ('2022.01.10 15:52', '19,800'),\n",
       "               ('2022.01.10 15:51', '19,800'),\n",
       "               ('2022.01.10 15:50', '19,800')],\n",
       "              '008770': [('2022.01.10 15:53', '74,400'),\n",
       "               ('2022.01.10 15:52', '74,400'),\n",
       "               ('2022.01.10 15:51', '74,400'),\n",
       "               ('2022.01.10 15:50', '74,400'),\n",
       "               ('2022.01.10 15:49', '74,400')],\n",
       "              '086790': [('2022.01.10 15:57', '45,400'),\n",
       "               ('2022.01.10 15:53', '45,400'),\n",
       "               ('2022.01.10 15:52', '45,400'),\n",
       "               ('2022.01.10 15:49', '45,400'),\n",
       "               ('2022.01.10 15:48', '45,400')],\n",
       "              '018000': [('2022.01.10 15:57', '2,755'),\n",
       "               ('2022.01.10 15:50', '2,755'),\n",
       "               ('2022.01.10 15:40', '2,755'),\n",
       "               ('2022.01.10 15:30', '2,755'),\n",
       "               ('2022.01.10 15:19', '2,770')],\n",
       "              '047080': [('2022.01.10 15:58', '5,500'),\n",
       "               ('2022.01.10 15:56', '5,500'),\n",
       "               ('2022.01.10 15:43', '5,500'),\n",
       "               ('2022.01.10 15:40', '5,500'),\n",
       "               ('2022.01.10 15:30', '5,500')],\n",
       "              '023530': [('2022.01.10 15:50', '86,800'),\n",
       "               ('2022.01.10 15:47', '86,800'),\n",
       "               ('2022.01.10 15:40', '86,800'),\n",
       "               ('2022.01.10 15:30', '86,800'),\n",
       "               ('2022.01.10 15:19', '86,600')],\n",
       "              '018260': [('2022.01.10 15:52', '152,000'),\n",
       "               ('2022.01.10 15:51', '152,000'),\n",
       "               ('2022.01.10 15:50', '152,000'),\n",
       "               ('2022.01.10 15:46', '152,000'),\n",
       "               ('2022.01.10 15:45', '152,000')],\n",
       "              '035420': [('2022.01.10 15:57', '335,000'),\n",
       "               ('2022.01.10 15:52', '335,000'),\n",
       "               ('2022.01.10 15:51', '335,000'),\n",
       "               ('2022.01.10 15:48', '335,000'),\n",
       "               ('2022.01.10 15:46', '335,000')],\n",
       "              '230980': [('2022.01.10 15:56', '1,845'),\n",
       "               ('2022.01.10 15:55', '1,845'),\n",
       "               ('2022.01.10 15:46', '1,845'),\n",
       "               ('2022.01.10 15:41', '1,845'),\n",
       "               ('2022.01.10 15:40', '1,845')]})}"
      ]
     },
     "execution_count": 13,
     "metadata": {},
     "output_type": "execute_result"
    }
   ],
   "source": [
    "stock(result)"
   ]
  },
  {
   "cell_type": "markdown",
   "metadata": {},
   "source": [
    "# 5분마다 스케쥴링"
   ]
  },
  {
   "cell_type": "code",
   "execution_count": 14,
   "metadata": {},
   "outputs": [
    {
     "data": {
      "text/plain": [
       "Every 5 minutes do stock() (last run: [never], next run: 2022-01-10 20:59:03)"
      ]
     },
     "execution_count": 14,
     "metadata": {},
     "output_type": "execute_result"
    }
   ],
   "source": [
    "schedule.every(5).minutes.do(stock)\n"
   ]
  },
  {
   "cell_type": "code",
   "execution_count": null,
   "metadata": {},
   "outputs": [],
   "source": [
    "# 1) 0분 / 5분 / 10분 / 15분 \n",
    "# 2) "
   ]
  },
  {
   "cell_type": "code",
   "execution_count": 19,
   "metadata": {},
   "outputs": [],
   "source": [
    "import time\n",
    "import random\n",
    "import datetime\n",
    "from kafka import KafkaProducer"
   ]
  },
  {
   "cell_type": "code",
   "execution_count": 28,
   "metadata": {},
   "outputs": [],
   "source": [
    "def message():\n",
    "    start = datetime.datetime.now()\n",
    "    print(\"스케쥴 실행중...\")\n",
    "    for key,value in result.items():\n",
    "        realtimestock = stock(result, 1)\n",
    "        \n",
    "    end = datetime.datetime.now()\n",
    "    print(\"실행 : \", end - start)"
   ]
  },
  {
   "cell_type": "code",
   "execution_count": 29,
   "metadata": {},
   "outputs": [
    {
     "ename": "TypeError",
     "evalue": "stock() missing 1 required positional argument: 'result'",
     "output_type": "error",
     "traceback": [
      "\u001b[0;31m---------------------------------------------------------------------------\u001b[0m",
      "\u001b[0;31mTypeError\u001b[0m                                 Traceback (most recent call last)",
      "\u001b[0;32m<ipython-input-29-8f8dbbc79482>\u001b[0m in \u001b[0;36m<module>\u001b[0;34m\u001b[0m\n\u001b[1;32m      7\u001b[0m \u001b[0;34m\u001b[0m\u001b[0m\n\u001b[1;32m      8\u001b[0m     \u001b[0mNOW\u001b[0m \u001b[0;34m=\u001b[0m \u001b[0mdatetime\u001b[0m\u001b[0;34m.\u001b[0m\u001b[0mdatetime\u001b[0m\u001b[0;34m.\u001b[0m\u001b[0mnow\u001b[0m\u001b[0;34m(\u001b[0m\u001b[0;34m)\u001b[0m\u001b[0;34m\u001b[0m\u001b[0;34m\u001b[0m\u001b[0m\n\u001b[0;32m----> 9\u001b[0;31m     \u001b[0mschedule\u001b[0m\u001b[0;34m.\u001b[0m\u001b[0mrun_pending\u001b[0m\u001b[0;34m(\u001b[0m\u001b[0;34m)\u001b[0m\u001b[0;34m\u001b[0m\u001b[0;34m\u001b[0m\u001b[0m\n\u001b[0m\u001b[1;32m     10\u001b[0m     \u001b[0;32mif\u001b[0m \u001b[0mdatetime\u001b[0m\u001b[0;34m.\u001b[0m\u001b[0mdatetime\u001b[0m\u001b[0;34m.\u001b[0m\u001b[0mnow\u001b[0m\u001b[0;34m(\u001b[0m\u001b[0;34m)\u001b[0m \u001b[0;34m==\u001b[0m \u001b[0mNOW\u001b[0m \u001b[0;34m+\u001b[0m \u001b[0mdatetime\u001b[0m\u001b[0;34m.\u001b[0m\u001b[0mtimedelta\u001b[0m\u001b[0;34m(\u001b[0m\u001b[0mminutes\u001b[0m \u001b[0;34m=\u001b[0m \u001b[0;36m1\u001b[0m\u001b[0;34m)\u001b[0m\u001b[0;34m:\u001b[0m\u001b[0;34m\u001b[0m\u001b[0;34m\u001b[0m\u001b[0m\n\u001b[1;32m     11\u001b[0m \u001b[0;34m\u001b[0m\u001b[0m\n",
      "\u001b[0;32m~/anaconda3/lib/python3.7/site-packages/schedule/__init__.py\u001b[0m in \u001b[0;36mrun_pending\u001b[0;34m()\u001b[0m\n\u001b[1;32m    778\u001b[0m     \u001b[0;34m:\u001b[0m\u001b[0mdata\u001b[0m\u001b[0;34m:\u001b[0m\u001b[0;31m`\u001b[0m\u001b[0mdefault\u001b[0m \u001b[0mscheduler\u001b[0m \u001b[0minstance\u001b[0m \u001b[0;34m<\u001b[0m\u001b[0mdefault_scheduler\u001b[0m\u001b[0;34m>\u001b[0m\u001b[0;31m`\u001b[0m\u001b[0;34m.\u001b[0m\u001b[0;34m\u001b[0m\u001b[0;34m\u001b[0m\u001b[0m\n\u001b[1;32m    779\u001b[0m     \"\"\"\n\u001b[0;32m--> 780\u001b[0;31m     \u001b[0mdefault_scheduler\u001b[0m\u001b[0;34m.\u001b[0m\u001b[0mrun_pending\u001b[0m\u001b[0;34m(\u001b[0m\u001b[0;34m)\u001b[0m\u001b[0;34m\u001b[0m\u001b[0;34m\u001b[0m\u001b[0m\n\u001b[0m\u001b[1;32m    781\u001b[0m \u001b[0;34m\u001b[0m\u001b[0m\n\u001b[1;32m    782\u001b[0m \u001b[0;34m\u001b[0m\u001b[0m\n",
      "\u001b[0;32m~/anaconda3/lib/python3.7/site-packages/schedule/__init__.py\u001b[0m in \u001b[0;36mrun_pending\u001b[0;34m(self)\u001b[0m\n\u001b[1;32m     98\u001b[0m         \u001b[0mrunnable_jobs\u001b[0m \u001b[0;34m=\u001b[0m \u001b[0;34m(\u001b[0m\u001b[0mjob\u001b[0m \u001b[0;32mfor\u001b[0m \u001b[0mjob\u001b[0m \u001b[0;32min\u001b[0m \u001b[0mself\u001b[0m\u001b[0;34m.\u001b[0m\u001b[0mjobs\u001b[0m \u001b[0;32mif\u001b[0m \u001b[0mjob\u001b[0m\u001b[0;34m.\u001b[0m\u001b[0mshould_run\u001b[0m\u001b[0;34m)\u001b[0m\u001b[0;34m\u001b[0m\u001b[0;34m\u001b[0m\u001b[0m\n\u001b[1;32m     99\u001b[0m         \u001b[0;32mfor\u001b[0m \u001b[0mjob\u001b[0m \u001b[0;32min\u001b[0m \u001b[0msorted\u001b[0m\u001b[0;34m(\u001b[0m\u001b[0mrunnable_jobs\u001b[0m\u001b[0;34m)\u001b[0m\u001b[0;34m:\u001b[0m\u001b[0;34m\u001b[0m\u001b[0;34m\u001b[0m\u001b[0m\n\u001b[0;32m--> 100\u001b[0;31m             \u001b[0mself\u001b[0m\u001b[0;34m.\u001b[0m\u001b[0m_run_job\u001b[0m\u001b[0;34m(\u001b[0m\u001b[0mjob\u001b[0m\u001b[0;34m)\u001b[0m\u001b[0;34m\u001b[0m\u001b[0;34m\u001b[0m\u001b[0m\n\u001b[0m\u001b[1;32m    101\u001b[0m \u001b[0;34m\u001b[0m\u001b[0m\n\u001b[1;32m    102\u001b[0m     \u001b[0;32mdef\u001b[0m \u001b[0mrun_all\u001b[0m\u001b[0;34m(\u001b[0m\u001b[0mself\u001b[0m\u001b[0;34m,\u001b[0m \u001b[0mdelay_seconds\u001b[0m\u001b[0;34m:\u001b[0m \u001b[0mint\u001b[0m \u001b[0;34m=\u001b[0m \u001b[0;36m0\u001b[0m\u001b[0;34m)\u001b[0m \u001b[0;34m->\u001b[0m \u001b[0;32mNone\u001b[0m\u001b[0;34m:\u001b[0m\u001b[0;34m\u001b[0m\u001b[0;34m\u001b[0m\u001b[0m\n",
      "\u001b[0;32m~/anaconda3/lib/python3.7/site-packages/schedule/__init__.py\u001b[0m in \u001b[0;36m_run_job\u001b[0;34m(self, job)\u001b[0m\n\u001b[1;32m    170\u001b[0m \u001b[0;34m\u001b[0m\u001b[0m\n\u001b[1;32m    171\u001b[0m     \u001b[0;32mdef\u001b[0m \u001b[0m_run_job\u001b[0m\u001b[0;34m(\u001b[0m\u001b[0mself\u001b[0m\u001b[0;34m,\u001b[0m \u001b[0mjob\u001b[0m\u001b[0;34m:\u001b[0m \u001b[0;34m\"Job\"\u001b[0m\u001b[0;34m)\u001b[0m \u001b[0;34m->\u001b[0m \u001b[0;32mNone\u001b[0m\u001b[0;34m:\u001b[0m\u001b[0;34m\u001b[0m\u001b[0;34m\u001b[0m\u001b[0m\n\u001b[0;32m--> 172\u001b[0;31m         \u001b[0mret\u001b[0m \u001b[0;34m=\u001b[0m \u001b[0mjob\u001b[0m\u001b[0;34m.\u001b[0m\u001b[0mrun\u001b[0m\u001b[0;34m(\u001b[0m\u001b[0;34m)\u001b[0m\u001b[0;34m\u001b[0m\u001b[0;34m\u001b[0m\u001b[0m\n\u001b[0m\u001b[1;32m    173\u001b[0m         \u001b[0;32mif\u001b[0m \u001b[0misinstance\u001b[0m\u001b[0;34m(\u001b[0m\u001b[0mret\u001b[0m\u001b[0;34m,\u001b[0m \u001b[0mCancelJob\u001b[0m\u001b[0;34m)\u001b[0m \u001b[0;32mor\u001b[0m \u001b[0mret\u001b[0m \u001b[0;32mis\u001b[0m \u001b[0mCancelJob\u001b[0m\u001b[0;34m:\u001b[0m\u001b[0;34m\u001b[0m\u001b[0;34m\u001b[0m\u001b[0m\n\u001b[1;32m    174\u001b[0m             \u001b[0mself\u001b[0m\u001b[0;34m.\u001b[0m\u001b[0mcancel_job\u001b[0m\u001b[0;34m(\u001b[0m\u001b[0mjob\u001b[0m\u001b[0;34m)\u001b[0m\u001b[0;34m\u001b[0m\u001b[0;34m\u001b[0m\u001b[0m\n",
      "\u001b[0;32m~/anaconda3/lib/python3.7/site-packages/schedule/__init__.py\u001b[0m in \u001b[0;36mrun\u001b[0;34m(self)\u001b[0m\n\u001b[1;32m    659\u001b[0m \u001b[0;34m\u001b[0m\u001b[0m\n\u001b[1;32m    660\u001b[0m         \u001b[0mlogger\u001b[0m\u001b[0;34m.\u001b[0m\u001b[0mdebug\u001b[0m\u001b[0;34m(\u001b[0m\u001b[0;34m\"Running job %s\"\u001b[0m\u001b[0;34m,\u001b[0m \u001b[0mself\u001b[0m\u001b[0;34m)\u001b[0m\u001b[0;34m\u001b[0m\u001b[0;34m\u001b[0m\u001b[0m\n\u001b[0;32m--> 661\u001b[0;31m         \u001b[0mret\u001b[0m \u001b[0;34m=\u001b[0m \u001b[0mself\u001b[0m\u001b[0;34m.\u001b[0m\u001b[0mjob_func\u001b[0m\u001b[0;34m(\u001b[0m\u001b[0;34m)\u001b[0m\u001b[0;34m\u001b[0m\u001b[0;34m\u001b[0m\u001b[0m\n\u001b[0m\u001b[1;32m    662\u001b[0m         \u001b[0mself\u001b[0m\u001b[0;34m.\u001b[0m\u001b[0mlast_run\u001b[0m \u001b[0;34m=\u001b[0m \u001b[0mdatetime\u001b[0m\u001b[0;34m.\u001b[0m\u001b[0mdatetime\u001b[0m\u001b[0;34m.\u001b[0m\u001b[0mnow\u001b[0m\u001b[0;34m(\u001b[0m\u001b[0;34m)\u001b[0m\u001b[0;34m\u001b[0m\u001b[0;34m\u001b[0m\u001b[0m\n\u001b[1;32m    663\u001b[0m         \u001b[0mself\u001b[0m\u001b[0;34m.\u001b[0m\u001b[0m_schedule_next_run\u001b[0m\u001b[0;34m(\u001b[0m\u001b[0;34m)\u001b[0m\u001b[0;34m\u001b[0m\u001b[0;34m\u001b[0m\u001b[0m\n",
      "\u001b[0;31mTypeError\u001b[0m: stock() missing 1 required positional argument: 'result'"
     ]
    }
   ],
   "source": [
    "bootstrap_servers = ['localhost:9092']\n",
    "topicName = 'realtime_stock'\n",
    "producer = KafkaProducer(bootstrap_servers = bootstrap_servers)\n",
    "\n",
    "job = schedule.every(60).seconds.do(message)\n",
    "\n",
    "while True:\n",
    "    \n",
    "    NOW = datetime.datetime.now()\n",
    "    schedule.run_pending()\n",
    "    if datetime.datetime.now() == NOW + datetime.timedelta(minutes = 1):\n",
    "        producer.send(topicName, str(job()).encode()) ##\n",
    "        tim = datetime.datetime.now().strftime('%Y-%m-%d %H:%M:%S')    \n",
    "        producer.send(topicName, tim.encode())\n",
    "        break"
   ]
  },
  {
   "cell_type": "code",
   "execution_count": null,
   "metadata": {},
   "outputs": [],
   "source": []
  }
 ],
 "metadata": {
  "kernelspec": {
   "display_name": "Python 3",
   "language": "python",
   "name": "python3"
  },
  "language_info": {
   "codemirror_mode": {
    "name": "ipython",
    "version": 3
   },
   "file_extension": ".py",
   "mimetype": "text/x-python",
   "name": "python",
   "nbconvert_exporter": "python",
   "pygments_lexer": "ipython3",
   "version": "3.7.3"
  }
 },
 "nbformat": 4,
 "nbformat_minor": 2
}
