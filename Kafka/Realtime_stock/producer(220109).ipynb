{
 "cells": [
  {
   "cell_type": "code",
   "execution_count": 1,
   "metadata": {},
   "outputs": [],
   "source": [
    "import time\n",
    "import random\n",
    "import datetime\n",
    "import schedule\n",
    "# dc_crawling.py 같은 폴더에 있다고 가정\n",
    "#from dc_crawling import *from kafka impt KafkaProducer"
   ]
  },
  {
   "cell_type": "code",
   "execution_count": 2,
   "metadata": {},
   "outputs": [
    {
     "name": "stderr",
     "output_type": "stream",
     "text": [
      "/Users/seomin/anaconda3/lib/python3.7/site-packages/pandas/compat/_optional.py:138: UserWarning: Pandas requires version '2.7.0' or newer of 'numexpr' (version '2.6.9' currently installed).\n",
      "  warnings.warn(msg, UserWarning)\n"
     ]
    }
   ],
   "source": [
    "from requests.compat import urlparse, urljoin\n",
    "from requests.exceptions import HTTPError\n",
    "import time\n",
    "import sqlite3\n",
    "from requests import Session\n",
    "from bs4 import BeautifulSoup\n",
    "import re\n",
    "import datetime\n",
    "import pandas# as pd\n",
    "import datetime\n",
    "from tqdm import tqdm"
   ]
  },
  {
   "cell_type": "code",
   "execution_count": 3,
   "metadata": {},
   "outputs": [],
   "source": [
    "def download(url, params={}, headers={}, method='GET', limit=3):\n",
    "    try:\n",
    "        session = Session()\n",
    "        resp = session.request(method, url,\n",
    "                               params=params if method.upper() == 'GET' else '',\n",
    "                               data=params if method.upper() == 'POST' else '',\n",
    "                               headers=headers)\n",
    "        resp.raise_for_status()\n",
    "    except HTTPError as e:\n",
    "        if limit > 0 and e.response.status_code >= 500:\n",
    "            print(limit)\n",
    "            time.sleep(60)  # Server Error이기 때문에 delay를 두고 실행하기 위해서 사용한다.\n",
    "            # 보통은 5분에 한 번꼴로 random하게 되도록 설정한다.\n",
    "            download(url, params, headers, method, limit - 1)\n",
    "        else:\n",
    "            print('[{}] '.format(e.response.status_code) + url)\n",
    "            print(e.response.reason)\n",
    "            print(e.response.headers)\n",
    "\n",
    "    return resp"
   ]
  },
  {
   "cell_type": "markdown",
   "metadata": {},
   "source": [
    "# 기존"
   ]
  },
  {
   "cell_type": "code",
   "execution_count": 17,
   "metadata": {
    "scrolled": true
   },
   "outputs": [
    {
     "ename": "NameError",
     "evalue": "name 'KafkaProducer' is not defined",
     "output_type": "error",
     "traceback": [
      "\u001b[0;31m---------------------------------------------------------------------------\u001b[0m",
      "\u001b[0;31mNameError\u001b[0m                                 Traceback (most recent call last)",
      "\u001b[0;32m<ipython-input-17-640b83ed9ca6>\u001b[0m in \u001b[0;36m<module>\u001b[0;34m\u001b[0m\n\u001b[1;32m      2\u001b[0m \u001b[0mbootstrap_servers\u001b[0m \u001b[0;34m=\u001b[0m \u001b[0;34m[\u001b[0m\u001b[0;34m'localhost:9092'\u001b[0m\u001b[0;34m]\u001b[0m\u001b[0;34m\u001b[0m\u001b[0;34m\u001b[0m\u001b[0m\n\u001b[1;32m      3\u001b[0m \u001b[0mtopicName\u001b[0m \u001b[0;34m=\u001b[0m \u001b[0;34m'realtime_stock'\u001b[0m\u001b[0;34m\u001b[0m\u001b[0;34m\u001b[0m\u001b[0m\n\u001b[0;32m----> 4\u001b[0;31m \u001b[0mproducer\u001b[0m \u001b[0;34m=\u001b[0m \u001b[0mKafkaProducer\u001b[0m\u001b[0;34m(\u001b[0m\u001b[0mbootstrap_servers\u001b[0m \u001b[0;34m=\u001b[0m \u001b[0mbootstrap_servers\u001b[0m\u001b[0;34m)\u001b[0m\u001b[0;34m\u001b[0m\u001b[0;34m\u001b[0m\u001b[0m\n\u001b[0m\u001b[1;32m      5\u001b[0m \u001b[0;34m\u001b[0m\u001b[0m\n\u001b[1;32m      6\u001b[0m \u001b[0;34m\u001b[0m\u001b[0m\n",
      "\u001b[0;31mNameError\u001b[0m: name 'KafkaProducer' is not defined"
     ]
    }
   ],
   "source": [
    "#bootstrap_servers = ['localhost:9092','localhost:9093']  # kafka broker ip\n",
    "bootstrap_servers = ['localhost:9092']\n",
    "topicName = 'realtime_stock'\n",
    "producer = KafkaProducer(bootstrap_servers = bootstrap_servers)\n",
    "\n",
    "\n",
    "codes = {'336260', '009830', '086520', '011930', '018000', '035720', '035420', '036570', \n",
    "'041140', '018260', '005930', '000660', '011790', '014680', '000990', '023530', '004170', \n",
    "'008770', '028260', '026960', '105560', '071050', '055550', '316140', '086790', '047080', \n",
    "'089890', '030350', '230980', '069410'}\n",
    "\n",
    "now = datetime.datetime.now()\n",
    "    \n",
    "############ \n",
    "# {'code': '336260', 'time':'2022.01.07 14:43', 'price':'127,500'}\n",
    "#############\n",
    "\n",
    "headers = {\"user-agent\": \"Mozilla/5.0 (Windows NT 10.0; Win64; x64) AppleWebKit/537.36 (KHTML, like Gecko) Chrome/92.0.4515.131 Safari/537.36\"}\n",
    "\n",
    "# ticker 처음부터 다 돌기\n",
    "for code in codes:\n",
    "    time = datetime.datetime(now.year, now.month, now.day)\n",
    "\n",
    "    if now.weekday() == 5 or now.weekday() == 6:\n",
    "        now -= datetime.timedelta(days = 1)\n",
    "        continue\n",
    "    \n",
    "    result = list()\n",
    "    pages = range(1, 13)\n",
    "    for page in pages:\n",
    "        url = 'https://finance.naver.com/item/sise_time.nhn?code={}&thistime={}&page={}'.format(code, time.strftime(\"%Y%m%d\")+\"161122\", page)\n",
    "        resp = download(url, headers = headers)\n",
    "        dom = BeautifulSoup(resp.content, 'lxml')\n",
    "        \n",
    "        # result = for t, p in zip([i.text for i in dom.select('tr > td:nth-of-type(1) > span')], [i.text for i in dom.select('tr > td:nth-of-type(2) > span')])}\n",
    "        for i in range(len(dom.select('tr > td:nth-of-type(2) > span'))):\n",
    "            # result list에 dictionary 형태로 추가\n",
    "            result.append({\n",
    "                'code':code, \n",
    "                'date': time.strftime(\"%Y.%m.%d\") + \" \" + dom.select('tr > td:nth-of-type(1) > span')[i].text,\n",
    "                'price': dom.select('tr > td:nth-of-type(2) > span')[i].text\n",
    "                }) \n",
    "            for value in result:\n",
    "                producer.send(topicName, str(i).encode())\n",
    "                tim = datetime.datetime.now().strftime('%Y-%m-%d %H:%M:%S')\n",
    "                producer.send(topicName, tim.encode())\n",
    "                print(value,\" - \")\n",
    "            \n",
    "\n",
    "# 날짜 왜 깎는지 잘 모르게씀..!           \n",
    "now -= datetime.timedelta(days = 1)\n",
    "\n",
    "# for value in ACODE.keys():\n",
    "#     print(value)\n",
    "#     DC_con = DC_crawling(value, 100)\n",
    "    \n",
    "\n",
    "#     for i in DC_con:\n",
    "#         producer.send(topicName, str(i).encode())      \n",
    "#         tim = datetime.datetime.now().strftime('%Y-%m-%d %H:%M:%S')\n",
    "#         metadata = producer.send(topicName, tim.encode())\n",
    "#         print(i,\" - \",metadata)"
   ]
  },
  {
   "cell_type": "code",
   "execution_count": null,
   "metadata": {},
   "outputs": [],
   "source": [
    "# 1월 7일 -> 하루가 지나고 갱신 \n",
    "#=> 이중 딕셔너리 자체를 초기화\n",
    "# 스케쥴러로 9시 시작하니까  -> 그 자체에서 초기화 하던가\n",
    "########## 메인함수에 초반에 초기화 시키는 부분   ==> #토픽 초기화하는 함수 부분 추가하고\n",
    "# 이어서 append..!\n",
    "\n",
    "#1 => 9:00 - 9:04\n",
    "#2 => 9:05 - 9:09\n",
    "#3 => 9:10 - 9:14"
   ]
  },
  {
   "cell_type": "markdown",
   "metadata": {},
   "source": [
    "# Jan 09 수정"
   ]
  },
  {
   "cell_type": "markdown",
   "metadata": {},
   "source": [
    "## 1차시도 : time 에 5를 더할 수 없는 상태"
   ]
  },
  {
   "cell_type": "code",
   "execution_count": 26,
   "metadata": {},
   "outputs": [],
   "source": [
    "# #bootstrap_servers = ['localhost:9092','localhost:9093']  # kafka broker ip\n",
    "# bootstrap_servers = ['localhost:9092']\n",
    "# topicName = 'realtime_stock'\n",
    "# producer = KafkaProducer(bootstrap_servers = bootstrap_servers)\n",
    "\n",
    "\n",
    "codes = {'336260', '009830', '086520', '011930', '018000', '035720', '035420', '036570', \n",
    "'041140', '018260', '005930', '000660', '011790', '014680', '000990', '023530', '004170', \n",
    "'008770', '028260', '026960', '105560', '071050', '055550', '316140', '086790', '047080', \n",
    "'089890', '030350', '230980', '069410'}\n",
    "\n",
    "now = datetime.datetime.now()\n",
    "    \n",
    "############ \n",
    "# {'code': '336260', 'time':'2022.01.07 14:43', 'price':'127,500'}\n",
    "#############\n",
    "\n",
    "headers = {\"user-agent\": \"Mozilla/5.0 (Windows NT 10.0; Win64; x64) AppleWebKit/537.36 (KHTML, like Gecko) Chrome/92.0.4515.131 Safari/537.36\"}\n",
    "\n",
    "# ticker 처음부터 다 돌기\n",
    "for code in codes:\n",
    "    date = datetime.datetime(now.year, now.month, now.day)\n",
    "\n",
    "    if now.weekday() == 5 or now.weekday() == 6:\n",
    "        now -= datetime.timedelta(days = 1)\n",
    "        continue\n",
    "    \n",
    "    result = {}\n",
    "    start = \"09:00\"        \n",
    "    \n",
    "    #result (dict)의 value 안에 들어갈 dict의 이름 : codestock\n",
    "    codestock = {}\n",
    "    \n",
    "        \n",
    "    pages = range(1, 13)\n",
    "    for page in pages:\n",
    "        url = 'https://finance.naver.com/item/sise_time.nhn?code={}&thistime={}&page={}'.format(code, date.strftime(\"%Y%m%d\")+\"161122\", page)\n",
    "        resp = download(url, headers = headers)\n",
    "        dom = BeautifulSoup(resp.content, 'lxml')\n",
    "        \n",
    "        # result = for t, p in zip([i.text for i in dom.select('tr > td:nth-of-type(1) > span')], [i.text for i in dom.select('tr > td:nth-of-type(2) > span')])}\n",
    "        for i in range(len(dom.select('tr > td:nth-of-type(2) > span'))):\n",
    "            # result list에 dictionary 형태로 추가\n",
    "            time = dom.select('tr > td:nth-of-type(1) > span')[i].text\n",
    "            j = 1\n",
    "            schedule.every().minutes.at(\"09:00\").do(\n",
    "            while start == \"16:00\":\n",
    "\n",
    "                if (start <= time) and (time < start+5):\n",
    "                    codestock.keys[j] = codestock.keys[j].append({\n",
    "                        'code':code\n",
    "                    })\n",
    "                    codestock.values[j]=codestock.values[j].append({\n",
    "                        'date': date.strftime(\"%Y.%m.%d\") + \" \" + time,\n",
    "                        'price': dom.select('tr > td:nth-of-type(2) > span')[i].text\n",
    "                        }) \n",
    "                    result.values[j] = codestock.items[j]\n",
    "                    j += 1\n",
    "                    continue\n",
    "                    \n",
    "                else:\n",
    "                    print(start)\n",
    "                    \n",
    "                    break\n",
    "            )  \n",
    "#             for value in result:\n",
    "#                 producer.send(topicName, str(i).encode())\n",
    "#                 tim = datetime.datetime.now().strftime('%Y-%m-%d %H:%M:%S')\n",
    "#                 producer.send(topicName, tim.encode())\n",
    "#                 print(value,\" - \")\n",
    "            \n",
    "\n",
    "# 날짜 왜 깎는지 잘 모르게씀..!           \n",
    "now -= datetime.timedelta(days = 1)"
   ]
  },
  {
   "cell_type": "markdown",
   "metadata": {},
   "source": [
    "## 예진언니 코드 인용 ver (미완)"
   ]
  },
  {
   "cell_type": "code",
   "execution_count": 40,
   "metadata": {},
   "outputs": [
    {
     "ename": "TypeError",
     "evalue": "'builtin_function_or_method' object is not subscriptable",
     "output_type": "error",
     "traceback": [
      "\u001b[0;31m---------------------------------------------------------------------------\u001b[0m",
      "\u001b[0;31mTypeError\u001b[0m                                 Traceback (most recent call last)",
      "\u001b[0;32m<ipython-input-40-a1e2d2f99fd4>\u001b[0m in \u001b[0;36m<module>\u001b[0;34m\u001b[0m\n\u001b[1;32m     38\u001b[0m             \u001b[0mj\u001b[0m \u001b[0;34m=\u001b[0m \u001b[0;36m1\u001b[0m\u001b[0;34m\u001b[0m\u001b[0;34m\u001b[0m\u001b[0m\n\u001b[1;32m     39\u001b[0m             \u001b[0;32mwhile\u001b[0m \u001b[0mdatetime\u001b[0m\u001b[0;34m.\u001b[0m\u001b[0mdatetime\u001b[0m\u001b[0;34m.\u001b[0m\u001b[0mstrptime\u001b[0m\u001b[0;34m(\u001b[0m\u001b[0mtime\u001b[0m\u001b[0;34m,\u001b[0m \u001b[0;34m\"%H:%M\"\u001b[0m\u001b[0;34m)\u001b[0m \u001b[0;34m<\u001b[0m \u001b[0mdatetime\u001b[0m\u001b[0;34m.\u001b[0m\u001b[0mdatetime\u001b[0m\u001b[0;34m.\u001b[0m\u001b[0mstrptime\u001b[0m\u001b[0;34m(\u001b[0m\u001b[0;34m\"16:05\"\u001b[0m\u001b[0;34m,\u001b[0m \u001b[0;34m\"%H:%M\"\u001b[0m\u001b[0;34m)\u001b[0m\u001b[0;34m:\u001b[0m\u001b[0;34m\u001b[0m\u001b[0;34m\u001b[0m\u001b[0m\n\u001b[0;32m---> 40\u001b[0;31m                 codestock.keys[j] = codestock.keys[j].append({\n\u001b[0m\u001b[1;32m     41\u001b[0m                         \u001b[0;34m'code'\u001b[0m\u001b[0;34m:\u001b[0m\u001b[0mcode\u001b[0m\u001b[0;34m\u001b[0m\u001b[0;34m\u001b[0m\u001b[0m\n\u001b[1;32m     42\u001b[0m                     })\n",
      "\u001b[0;31mTypeError\u001b[0m: 'builtin_function_or_method' object is not subscriptable"
     ]
    }
   ],
   "source": [
    "#예진언니 코드 인용 ver\n",
    "\n",
    "codes = {'336260', '009830', '086520', '011930', '018000', '035720', '035420', '036570', \n",
    "'041140', '018260', '005930', '000660', '011790', '014680', '000990', '023530', '004170', \n",
    "'008770', '028260', '026960', '105560', '071050', '055550', '316140', '086790', '047080', \n",
    "'089890', '030350', '230980', '069410'}\n",
    "\n",
    "now = datetime.datetime.now()\n",
    "headers = {\"user-agent\": \"Mozilla/5.0 (Windows NT 10.0; Win64; x64) AppleWebKit/537.36 (KHTML, like Gecko) Chrome/92.0.4515.131 Safari/537.36\"}\n",
    "\n",
    "# ticker 처음부터 다 돌기\n",
    "for code in codes:\n",
    "    #date = datetime.datetime(now.year, now.month, now.day)\n",
    "\n",
    "    #if now.weekday() == 5 or now.weekday() == 6:\n",
    "#         now -= datetime.timedelta(days = 1)\n",
    "#         continue\n",
    "    time = datetime.datetime(2022,1,9,9,0)\n",
    "    result = {}\n",
    "    start = \"09:00\" \n",
    "    \n",
    "    #result (dict)의 value 안에 들어갈 dict의 이름 : codestock\n",
    "    codestock = {}\n",
    "    \n",
    "\n",
    "    pages = range(1, 13)\n",
    "        \n",
    "    for page in pages:\n",
    "        url = 'https://finance.naver.com/item/sise_time.nhn?code={}&thistime={}&page={}'.format(code, date.strftime(\"%Y%m%d\")+\"161122\", page)\n",
    "        resp = download(url, headers = headers)\n",
    "        dom = BeautifulSoup(resp.content, 'lxml')\n",
    "\n",
    "        # result = for t, p in zip([i.text for i in dom.select('tr > td:nth-of-type(1) > span')], [i.text for i in dom.select('tr > td:nth-of-type(2) > span')])}\n",
    "        for i in range(len(dom.select('tr > td:nth-of-type(2) > span'))): # 한 종목의 주가\n",
    "            # result list에 dictionary 형태로 추가\n",
    "            time = dom.select('tr > td:nth-of-type(1) > span')[i].text\n",
    "            time = datetime.datetime.strptime(time, \"%H:%M\")\n",
    "\n",
    "            j = 1\n",
    "            while time < datetime.datetime.strptime(\"16:05\", \"%H:%M\"):\n",
    "                \n",
    "                (date.strftime(\"%Y.%m.%d\") + \" \" + time, dom.select('tr > td:nth-of-type(2) > span')[i].text)\n",
    "                \n",
    "                \n",
    "                result.values[j] = codestock.items[j]\n",
    "                time += datetime.timedelta(minutes=5)  \n",
    "                j += 1\n",
    "\n",
    "            break\n"
   ]
  },
  {
   "cell_type": "code",
   "execution_count": null,
   "metadata": {},
   "outputs": [],
   "source": [
    "# RESULT = dict{i : [] for i in range()}\n",
    "i = 1\n",
    "time = datetime.datetime(2022,1,9,9,0)\n",
    "while time.strftime('%H:%M') < \"16:05\":\n",
    "    \n",
    "    time += datetime.timedelta(minutes=5)    \n",
    "    i += 1"
   ]
  },
  {
   "cell_type": "markdown",
   "metadata": {},
   "source": [
    "## addstock 함수 만든 ver"
   ]
  },
  {
   "cell_type": "code",
   "execution_count": 25,
   "metadata": {},
   "outputs": [],
   "source": [
    "def addstock(result):\n",
    "    \n",
    "    codes = {'336260', '009830', '086520', '011930', '018000', '035720', '035420', '036570', \n",
    "    '041140', '018260', '005930', '000660', '011790', '014680', '000990', '023530', '004170', \n",
    "    '008770', '028260', '026960', '105560', '071050', '055550', '316140', '086790', '047080', \n",
    "    '089890', '030350', '230980', '069410'}\n",
    "    \n",
    "    headers = {\"user-agent\": \"Mozilla/5.0 (Windows NT 10.0; Win64; x64) AppleWebKit/537.36 (KHTML, like Gecko) Chrome/92.0.4515.131 Safari/537.36\"}\n",
    "\n",
    "\n",
    "    now = datetime.datetime.now()\n",
    "    \n",
    "    for code in codes:\n",
    "        date = datetime.datetime(now.year, now.month, now.day)\n",
    "\n",
    "        if now.weekday() == 5 or now.weekday() == 6:\n",
    "            now -= datetime.timedelta(days = 1)\n",
    "            continue\n",
    "    \n",
    "        result = {}\n",
    "        start = \"09:00\"        \n",
    "\n",
    "        #result (dict)의 value 안에 들어갈 dict의 이름 : codestock\n",
    "        codestock = {}\n",
    "\n",
    "\n",
    "        pages = range(1, 13)\n",
    "        for page in pages:\n",
    "            url = 'https://finance.naver.com/item/sise_time.nhn?code={}&thistime={}&page={}'.format(code, date.strftime(\"%Y%m%d\")+\"161122\", page)\n",
    "            resp = download(url, headers = headers)\n",
    "            dom = BeautifulSoup(resp.content, 'lxml')\n",
    "\n",
    "                # result = for t, p in zip([i.text for i in dom.select('tr > td:nth-of-type(1) > span')], [i.text for i in dom.select('tr > td:nth-of-type(2) > span')])}\n",
    "            for i in range(len(dom.select('tr > td:nth-of-type(2) > span'))):\n",
    "                    # result list에 dictionary 형태로 추가\n",
    "                time = dom.select('tr > td:nth-of-type(1) > span')[i].text\n",
    "\n",
    "\n",
    "                j=1\n",
    "\n",
    "                while start == \"16:00\":\n",
    "\n",
    "                    codestock.keys[j] = codestock.keys[j].append({\n",
    "                                        'code':code\n",
    "                                    })\n",
    "                    codestock.values[j]=codestock.values[j].append({\n",
    "                                        'date': date.strftime(\"%Y.%m.%d\") + \" \" + time,\n",
    "                                        'price': dom.select('tr > td:nth-of-type(2) > span')[i].text\n",
    "                                        }) \n",
    "\n",
    "                    result.values[j] = codestock.items[j]\n",
    "                    j += 1      \n",
    "\n",
    "\n",
    "                return result"
   ]
  },
  {
   "cell_type": "code",
   "execution_count": 29,
   "metadata": {},
   "outputs": [
    {
     "data": {
      "text/plain": [
       "Every 5 minutes do addstock() (last run: [never], next run: 2022-01-09 21:12:24)"
      ]
     },
     "execution_count": 29,
     "metadata": {},
     "output_type": "execute_result"
    }
   ],
   "source": [
    "schedule.every(5).minutes.do(addstock)\n",
    "        \n",
    "\n",
    "# 날짜 왜 깎는지 잘 모르게씀..!           \n",
    "#now -= datetime.timedelta(days = 1)"
   ]
  }
 ],
 "metadata": {
  "kernelspec": {
   "display_name": "Python 3",
   "language": "python",
   "name": "python3"
  },
  "language_info": {
   "codemirror_mode": {
    "name": "ipython",
    "version": 3
   },
   "file_extension": ".py",
   "mimetype": "text/x-python",
   "name": "python",
   "nbconvert_exporter": "python",
   "pygments_lexer": "ipython3",
   "version": "3.7.3"
  }
 },
 "nbformat": 4,
 "nbformat_minor": 2
}
