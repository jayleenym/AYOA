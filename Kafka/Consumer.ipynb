{
 "cells": [
  {
   "cell_type": "code",
   "execution_count": 3,
   "metadata": {},
   "outputs": [
    {
     "name": "stdout",
     "output_type": "stream",
     "text": [
      "Error occured: Subscribed topic not available: peter-topic: Broker: Unknown topic or partition\n",
      "Received message: 0\n",
      "Received message: This is 0 msg\n",
      "Received message: 2021-11-10 21:27:31\n",
      "Received message: 1\n",
      "Received message: This is 1 msg\n",
      "Received message: 2021-11-10 21:27:32\n",
      "Received message: 2\n",
      "Received message: This is 2 msg\n",
      "Received message: 2021-11-10 21:27:33\n",
      "Received message: 3\n",
      "Received message: This is 3 msg\n",
      "Received message: 2021-11-10 21:27:34\n",
      "Received message: 4\n",
      "Received message: This is 4 msg\n",
      "Received message: 2021-11-10 21:27:35\n"
     ]
    }
   ],
   "source": [
    "from confluent_kafka import Consumer, KafkaError\n",
    "\n",
    "def main():\n",
    "    settings = {\n",
    "        'bootstrap.servers': 'localhost:9092,localhost:9093',\n",
    "        'group.id': 'mygroup',\n",
    "        'client.id': 'client-1',\n",
    "        'enable.auto.commit': True,\n",
    "        'session.timeout.ms': 6000,\n",
    "        'default.topic.config': {'auto.offset.reset': 'smallest'}\n",
    "    }\n",
    "\n",
    "    c = Consumer(settings)\n",
    "    c.subscribe(['peter-topic'])\n",
    "    try:\n",
    "        while True:\n",
    "            msg = c.poll(0.1)\n",
    "            if msg is None:\n",
    "                continue\n",
    "            elif not msg.error():\n",
    "                a = msg.value().decode(\"utf-8\")\n",
    "                # binary String 을 String 으로 change 필요\n",
    "                print('Received message: {0}'.format(a))\n",
    "            elif msg.error().code() == KafkaError._PARTITION_EOF:\n",
    "                print('End of partition reached {0}/{1}'.format(msg.topic(), msg.partition()))\n",
    "            else:\n",
    "                print('Error occured: {0}'.format(msg.error().str()))\n",
    "    except KeyboardInterrupt:\n",
    "        pass\n",
    "    finally:\n",
    "        c.close()\n",
    "\n",
    "if __name__ == \"__main__\":\n",
    "    main()"
   ]
  },
  {
   "cell_type": "code",
   "execution_count": 2,
   "metadata": {},
   "outputs": [
    {
     "name": "stdout",
     "output_type": "stream",
     "text": [
      "Collecting confluent_kafka\n",
      "  Downloading confluent_kafka-1.7.0-cp38-cp38-macosx_10_9_x86_64.whl (1.9 MB)\n",
      "     |████████████████████████████████| 1.9 MB 1.9 MB/s            \n",
      "\u001b[?25hInstalling collected packages: confluent-kafka\n",
      "Successfully installed confluent-kafka-1.7.0\n"
     ]
    }
   ],
   "source": [
    "!pip install confluent_kafka\n"
   ]
  },
  {
   "cell_type": "code",
   "execution_count": null,
   "metadata": {},
   "outputs": [],
   "source": [
    "# 키에러 줘야 꺼짐"
   ]
  }
 ],
 "metadata": {
  "kernelspec": {
   "display_name": "Python 3",
   "language": "python",
   "name": "python3"
  },
  "language_info": {
   "codemirror_mode": {
    "name": "ipython",
    "version": 3
   },
   "file_extension": ".py",
   "mimetype": "text/x-python",
   "name": "python",
   "nbconvert_exporter": "python",
   "pygments_lexer": "ipython3",
   "version": "3.8.5"
  }
 },
 "nbformat": 4,
 "nbformat_minor": 4
}
