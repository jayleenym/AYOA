{
 "cells": [
  {
   "cell_type": "code",
   "execution_count": 3,
   "metadata": {},
   "outputs": [],
   "source": [
    "import requests\n",
    "from urllib import request\n",
    "from bs4 import BeautifulSoup\n",
    "import time\n",
    "import pandas as pd\n",
    "from requests.compat import urlparse, urljoin\n",
    "from requests.exceptions import HTTPError\n",
    "import time\n",
    "import sqlite3\n",
    "from requests import Session\n",
    "from bs4 import BeautifulSoup\n",
    "import re\n",
    "import datetime\n",
    "import pandas as pd\n",
    "import datetime\n",
    "from tqdm import tqdm"
   ]
  },
  {
   "cell_type": "code",
   "execution_count": 4,
   "metadata": {},
   "outputs": [],
   "source": [
    "ACODE = {\"호텔신라\":\"008770\",\"두산퓨얼셀\":\"336260\",\"한화솔루션\":\"009830\",\n",
    "            \"에코프로\":\"086520\",\"신성이엔지\":\"011930\",\"유니슨\":\"018000\",\n",
    "            \"카카오\":\"035720\",\"네이버\":\"035420\",\"엔씨소프트\":\"036570\",\n",
    "            \"sds\":\"018260\",\"삼성전자\":\"005930\",\"SK하이닉스\":\"000660\",\n",
    "            \"skc\":\"011790\",\"한솔케미칼\":\"014680\",\"DB하이텍\":\"000990\",\n",
    "            \"롯데쇼핑\":\"023530\",\"신세계\":\"004170\",\"삼성물산\":\"028260\",\n",
    "            \"동서\":\"026960\",\"kb금융\":\"105560\",\"한국금융지주\":\"071050\",\"신한지주\":\"055550\",\n",
    "            \"우리금융지주\":\"316140\",\"하나금융지주\":\"086790\",\n",
    "         \"넥슨지티\":\"041140\",\"한빛소프트\":\"047080\",\"코세스\":\"089890\",\n",
    "      \"드래곤플라이\":\"030350\",\"에이트원\":\"230980\",\"엔텔스\":\"069410\"}"
   ]
  },
  {
   "cell_type": "code",
   "execution_count": 5,
   "metadata": {},
   "outputs": [],
   "source": [
    "def download(url, params={}, headers={}, method='GET', limit=3):\n",
    "    try:\n",
    "        session = Session()\n",
    "        resp = session.request(method, url,\n",
    "                               params=params if method.upper() == 'GET' else '',\n",
    "                               data=params if method.upper() == 'POST' else '',\n",
    "                               headers=headers)\n",
    "        resp.raise_for_status()\n",
    "    except HTTPError as e:\n",
    "        if limit > 0 and e.response.status_code >= 500:\n",
    "            print(limit)\n",
    "            time.sleep(60)  # Server Error이기 때문에 delay를 두고 실행하기 위해서 사용한다.\n",
    "            # 보통은 5분에 한 번꼴로 random하게 되도록 설정한다.\n",
    "            download(url, params, headers, method, limit - 1)\n",
    "        else:\n",
    "            print('[{}] '.format(e.response.status_code) + url)\n",
    "            print(e.response.reason)\n",
    "            print(e.response.headers)\n",
    "\n",
    "    return resp"
   ]
  },
  {
   "cell_type": "code",
   "execution_count": 15,
   "metadata": {},
   "outputs": [],
   "source": [
    "ya=dict()\n",
    "\n",
    "def naver_crawl(acode, current):\n",
    "    headers = {'User-Agent': 'Mozilla/5.0 (Windows NT 10.0; Win64; x64) AppleWebKit/537.36 (KHTML, like Gecko) Chrome/93.0.4577.63 Safari/537.36'}\n",
    "    pages = [1]\n",
    "    title_result = [] #{acode : {}}\n",
    "    global ya\n",
    "    seen_date = current.strftime(\"%Y.%m.%d %H:%M\")\n",
    "\n",
    "        \n",
    "\n",
    "    TIME_STOP = (current - datetime.timedelta(minutes = 5)).strftime(\"%Y.%m.%d %H:%M\")\n",
    "\n",
    "\n",
    "    for page in pages:\n",
    "     \n",
    "        pages.append(page + 1)\n",
    "        url = 'https://finance.naver.com/item/board.nhn?code={}&page={}'.format(acode,page)\n",
    "        resp = download(url, headers = headers)\n",
    "        dom = BeautifulSoup(resp.content, 'lxml')\n",
    "        table = dom.find('table', {'class' : 'type2'})\n",
    "        tt = table.select('tbody > tr')\n",
    "        for k in tt[2:]:\n",
    "            if len(k.select('td > span')) > 0:\n",
    "                date = k.select('td > span')[0].text\n",
    "                print('hi', date)\n",
    "                if TIME_STOP >= date or date == seen_date : \n",
    "                    print('범위 밖 ㅃㅇ')\n",
    "                    break\n",
    "\n",
    "\n",
    "                title = k.select('td.title > a')[0]['title']\n",
    "                view = k.select('td > span')[1].text\n",
    "                view = int(view)\n",
    "               # pos = k.select('td > strong')[0].text\n",
    "               # neg = k.select('td > strong')[1].text\n",
    "      \n",
    "\n",
    "                put_data = (date,title,view)\n",
    "                              \n",
    "                                     # 'pos':pos,\n",
    "                                     #  'neg':neg\n",
    "                                                 \n",
    "                print(put_data)\n",
    "                title_result.append(put_data)\n",
    "        \n",
    "        ya[acode] = title_result\n",
    "        return \n",
    "# 1, 코드 ()"
   ]
  },
  {
   "cell_type": "code",
   "execution_count": 16,
   "metadata": {},
   "outputs": [
    {
     "name": "stdout",
     "output_type": "stream",
     "text": [
      "hi 2022.01.09 21:31\n",
      "('2022.01.09 21:31', '게시판에 공매견들이 ', 2)\n",
      "hi 2022.01.09 21:31\n",
      "('2022.01.09 21:31', '50만원 짜리 회사가', 2)\n",
      "hi 2022.01.09 21:29\n",
      "('2022.01.09 21:29', '배당금 30원 실화임??', 9)\n",
      "hi 2022.01.09 21:27\n",
      "('2022.01.09 21:27', '바닥이 안 보인다', 11)\n",
      "hi 2022.01.09 21:27\n",
      "('2022.01.09 21:27', '달러 환율 1200원까지 상승한 원인', 11)\n",
      "hi 2022.01.09 21:19\n",
      "('2022.01.09 21:19', '카카오 20만원은 반드시 돌파한다 유태자본 중국자본의 카카오 ', 74)\n",
      "hi 2022.01.09 21:17\n",
      "('2022.01.09 21:17', '목표가 5만원', 28)\n",
      "hi 2022.01.09 21:17\n",
      "('2022.01.09 21:17', '개잡주네', 23)\n",
      "hi 2022.01.09 21:09\n",
      "범위 밖 ㅃㅇ\n"
     ]
    }
   ],
   "source": [
    "result = naver_crawl(ACODE['카카오'], datetime.datetime(2022,1,9,21,20))\n",
    "# ACODE.keys()"
   ]
  },
  {
   "cell_type": "code",
   "execution_count": 17,
   "metadata": {},
   "outputs": [
    {
     "data": {
      "text/plain": [
       "{'035720': [('2022.01.09 21:31', '게시판에 공매견들이 ', 2),\n",
       "  ('2022.01.09 21:31', '50만원 짜리 회사가', 2),\n",
       "  ('2022.01.09 21:29', '배당금 30원 실화임??', 9),\n",
       "  ('2022.01.09 21:27', '바닥이 안 보인다', 11),\n",
       "  ('2022.01.09 21:27', '달러 환율 1200원까지 상승한 원인', 11),\n",
       "  ('2022.01.09 21:19', '카카오 20만원은 반드시 돌파한다 유태자본 중국자본의 카카오 ', 74),\n",
       "  ('2022.01.09 21:17', '목표가 5만원', 28),\n",
       "  ('2022.01.09 21:17', '개잡주네', 23)]}"
      ]
     },
     "execution_count": 17,
     "metadata": {},
     "output_type": "execute_result"
    }
   ],
   "source": [
    "ya"
   ]
  },
  {
   "cell_type": "code",
   "execution_count": 23,
   "metadata": {},
   "outputs": [],
   "source": [
    "FIVE_MIN = {1:ya}"
   ]
  },
  {
   "cell_type": "code",
   "execution_count": 24,
   "metadata": {},
   "outputs": [
    {
     "data": {
      "text/plain": [
       "{1: {'035720': [('2022.01.09 21:31', '게시판에 공매견들이 ', 2),\n",
       "   ('2022.01.09 21:31', '50만원 짜리 회사가', 2),\n",
       "   ('2022.01.09 21:29', '배당금 30원 실화임??', 9),\n",
       "   ('2022.01.09 21:27', '바닥이 안 보인다', 11),\n",
       "   ('2022.01.09 21:27', '달러 환율 1200원까지 상승한 원인', 11),\n",
       "   ('2022.01.09 21:19', '카카오 20만원은 반드시 돌파한다 유태자본 중국자본의 카카오 ', 74),\n",
       "   ('2022.01.09 21:17', '목표가 5만원', 28),\n",
       "   ('2022.01.09 21:17', '개잡주네', 23)]}}"
      ]
     },
     "execution_count": 24,
     "metadata": {},
     "output_type": "execute_result"
    }
   ],
   "source": [
    "FIVE_MIN "
   ]
  },
  {
   "cell_type": "code",
   "execution_count": null,
   "metadata": {},
   "outputs": [],
   "source": [
    "def message():\n",
    "    start = datetime.datetime.now()\n",
    "    print(\"스케쥴 실행중...\")\n",
    "    for key,value in ACODE.items():\n",
    "        result = naver_crawl(value,datetime.datetime.now())\n",
    "        \n",
    "    end = datetime.datetime.now()\n",
    "    print(\"실행 : \", end - start)"
   ]
  },
  {
   "cell_type": "code",
   "execution_count": null,
   "metadata": {},
   "outputs": [],
   "source": [
    "import time\n",
    "import random\n",
    "import datetime\n",
    "from kafka import KafkaProducer\n",
    "#20분 -> 25분까지 25분 30초에 다시 돌기 시작 -> \n",
    "bootstrap_servers = ['localhost:9092']  # kafka broker ip\n",
    "topicName = 'NAVER'\n",
    "producer = KafkaProducer(bootstrap_servers=bootstrap_servers)\n",
    "\n",
    "job = schedule.every(60).seconds.do(message)\n",
    "while True:\n",
    "    \n",
    "    NOW = datetime.datetime.now()\n",
    "    schedule.run_pending()\n",
    "    if datetime.datetime.now() == NOW + datetime.timedelta(minutes = 1):\n",
    "\n",
    "        producer.send(topicName, str(job()).encode())\n",
    "\n",
    "        tim = datetime.datetime.now().strftime('%Y-%m-%d %H:%M:%S')\n",
    "        producer.send(topicName, tim.encode())\n",
    "        break\n",
    "#5분단위 크롤링 -> 올리고 새로 쓰고 지우고 (이 친구인가,,,) \n",
    "#프로듀서 오늘 9시부터 4시까지 긁고 -> 컨슈머에서 긁어와서 쓰기. (실시간....)\n",
    "#실행 순간 첫 페이지부터, 실시간으로 되려면 생길 때 마다"
   ]
  },
  {
   "cell_type": "code",
   "execution_count": null,
   "metadata": {},
   "outputs": [],
   "source": [
    "import schedule\n",
    "import time\n",
    "\n",
    "# step2.실행할 함수 선언\n",
    "def message():\n",
    "    print(\"스케쥴 실행중...\")\n",
    "    for key,value in ACODE.items():\n",
    "        result = naver_crawl(value,datetime.datetime.now())\n",
    "        #for i in result:\n",
    "            #print(i)\n",
    "#         return\n",
    "\n",
    "    \n",
    "# step3.실행 주기 설정\n",
    "job = schedule.every(60).seconds.do(message)\n",
    "\n",
    "\n",
    "\n",
    "\n",
    "   \n",
    "\n",
    "\n",
    "# step4.스캐쥴 시작\n",
    "count = 0\n",
    "#current = datetime.datetime.now()\n",
    "#five_minutes_later = current + datetime.timedelta(minutes=5)\n",
    "\n",
    "\n",
    "\n",
    "\n",
    "#3시 5분 - 3시 10분 => 15분 예측\n",
    "# 현재 3시 5분이면, 3시부터- 3시 4분 => 5분이나 10분의 데이터 예측..?\n",
    "while True:\n",
    "    \n",
    "    NOW = datetime.datetime.now()\n",
    "    schedule.run_pending()\n",
    "    #time.sleep(1)\n",
    "    \n",
    "    \n",
    "\n",
    "   # if datetime.datetime.now().strftime(\"%H:%M\") == NOW.strftime(\"%H:%M\"):\n",
    "   #     schedule.cancel_job(job)"
   ]
  },
  {
   "cell_type": "code",
   "execution_count": null,
   "metadata": {},
   "outputs": [],
   "source": []
  },
  {
   "cell_type": "code",
   "execution_count": null,
   "metadata": {},
   "outputs": [],
   "source": []
  }
 ],
 "metadata": {
  "kernelspec": {
   "display_name": "Python 3",
   "language": "python",
   "name": "python3"
  },
  "language_info": {
   "codemirror_mode": {
    "name": "ipython",
    "version": 3
   },
   "file_extension": ".py",
   "mimetype": "text/x-python",
   "name": "python",
   "nbconvert_exporter": "python",
   "pygments_lexer": "ipython3",
   "version": "3.8.5"
  }
 },
 "nbformat": 4,
 "nbformat_minor": 4
}
