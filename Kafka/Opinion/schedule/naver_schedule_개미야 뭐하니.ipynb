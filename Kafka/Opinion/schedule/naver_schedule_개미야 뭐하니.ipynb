{
 "cells": [
  {
   "cell_type": "markdown",
   "metadata": {},
   "source": [
    "필요 패키지\n"
   ]
  },
  {
   "cell_type": "code",
   "execution_count": null,
   "metadata": {},
   "outputs": [],
   "source": [
    "from urllib import request\n",
    "from bs4 import BeautifulSoup\n",
    "import pandas as pd\n",
    "from requests.compat import urlparse, urljoin\n",
    "from requests.exceptions import HTTPError\n",
    "from requests import Session\n",
    "import re\n",
    "from tqdm import tqdm\n",
    "import datetime\n",
    "import time\n",
    "import random\n",
    "from kafka import KafkaProducer\n",
    "import schedule"
   ]
  },
  {
   "cell_type": "markdown",
   "metadata": {},
   "source": [
    "## 종목별 코드"
   ]
  },
  {
   "cell_type": "code",
   "execution_count": null,
   "metadata": {},
   "outputs": [],
   "source": [
    "ACODE = {\"호텔신라\":\"008770\",\"두산퓨얼셀\":\"336260\",\"한화솔루션\":\"009830\",\n",
    "            \"에코프로\":\"086520\",\"신성이엔지\":\"011930\",\"유니슨\":\"018000\",\n",
    "            \"카카오\":\"035720\",\"네이버\":\"035420\",\"엔씨소프트\":\"036570\",\n",
    "            \"sds\":\"018260\",\"삼성전자\":\"005930\",\"SK하이닉스\":\"000660\",\n",
    "            \"skc\":\"011790\",\"한솔케미칼\":\"014680\",\"DB하이텍\":\"000990\",\n",
    "            \"롯데쇼핑\":\"023530\",\"신세계\":\"004170\",\"삼성물산\":\"028260\",\n",
    "            \"동서\":\"026960\",\"kb금융\":\"105560\",\"한국금융지주\":\"071050\",\"신한지주\":\"055550\",\n",
    "            \"우리금융지주\":\"316140\",\"하나금융지주\":\"086790\",\n",
    "         \"넥슨지티\":\"041140\",\"한빛소프트\":\"047080\",\"코세스\":\"089890\",\n",
    "      \"드래곤플라이\":\"030350\",\"에이트원\":\"230980\",\"엔텔스\":\"069410\"}"
   ]
  },
  {
   "cell_type": "code",
   "execution_count": null,
   "metadata": {},
   "outputs": [],
   "source": [
    "def download(url, params={}, headers={}, method='GET', limit=3):\n",
    "    try:\n",
    "        session = Session()\n",
    "        resp = session.request(method, url,\n",
    "                               params=params if method.upper() == 'GET' else '',\n",
    "                               data=params if method.upper() == 'POST' else '',\n",
    "                               headers=headers)\n",
    "        resp.raise_for_status()\n",
    "    except HTTPError as e:\n",
    "        if limit > 0 and e.response.status_code >= 500:\n",
    "            print(limit)\n",
    "            time.sleep(60)  # Server Error이기 때문에 delay를 두고 실행하기 위해서 사용한다.\n",
    "            # 보통은 5분에 한 번꼴로 random하게 되도록 설정한다.\n",
    "            download(url, params, headers, method, limit - 1)\n",
    "        else:\n",
    "            print('[{}] '.format(e.response.status_code) + url)\n",
    "            print(e.response.reason)\n",
    "            print(e.response.headers)\n",
    "\n",
    "    return resp"
   ]
  },
  {
   "cell_type": "markdown",
   "metadata": {},
   "source": [
    "## naver_crawl 함수 정의"
   ]
  },
  {
   "cell_type": "code",
   "execution_count": null,
   "metadata": {},
   "outputs": [],
   "source": [
    "\n",
    "TIME_MAPPING = {}\n",
    "\n",
    "i = 1\n",
    "START = datetime.datetime(2022,1,11,9,0) # test\n",
    "# # START = datetime.datetime.now() # 9시 시작 스케줄링\n",
    "s = START\n",
    "while s.strftime('%H:%M') < \"16:05\":\n",
    "    e = s + datetime.timedelta(minutes = 4)\n",
    "    TIME_MAPPING[i] = (s, e)\n",
    "\n",
    "    s += datetime.timedelta(minutes=5)\n",
    "    i += 1\n",
    "    \n",
    "def naver_crawl(current, ya):\n",
    "    headers = {'User-Agent': 'Mozilla/5.0 (Windows NT 10.0; Win64; x64) AppleWebKit/537.36 (KHTML, like Gecko) Chrome/93.0.4577.63 Safari/537.36'}\n",
    "    pages = [1]\n",
    "    #ya=dict()\n",
    "\n",
    "   \n",
    "    \n",
    "    #매핑해주는 숫자를 입력 받아서, 9시 10분을 타임스탑에 <- current 매핑수가 3일 때\n",
    "    \n",
    "    # 9시부터 \n",
    "    TIME_STOP = TIME_MAPPING[current]\n",
    "    \n",
    "    \n",
    "\n",
    "    for acode in ACODE.values():\n",
    "        print(acode)\n",
    "        TF = False\n",
    "        title_result = []\n",
    "        \n",
    "        for page in pages:\n",
    "            if TF:\n",
    "                break\n",
    "            pages.append(page + 1)\n",
    "            url = 'https://finance.naver.com/item/board.nhn?code={}&page={}'.format(acode,page)\n",
    "            resp = download(url, headers = headers)\n",
    "            dom = BeautifulSoup(resp.content, 'lxml')\n",
    "            table = dom.find('table', {'class' : 'type2'})\n",
    "            tt = table.select('tbody > tr')\n",
    "\n",
    "            for k in tt[2:]:\n",
    "                K = k.select('td > span')\n",
    "                if len(K) > 0:\n",
    "                    date = K[0].text\n",
    "                    print(date)\n",
    "                    #print(date[-5:], TIME_STOP[0].strftime('%H:%M'),TIME_STOP[1].strftime('%H:%M'))\n",
    "                    \n",
    "                    \n",
    "                    #in 이 아니라 부등호로 비교해야할듯!\n",
    "                    #아니면 title_result 안에 있는 요소들을 date 기준으로 sort하고 date가 가장 최근인 데이터랑만 비교하거나\n",
    "                    if date in [i[0] for i in title_result] :\n",
    "                        TF = True\n",
    "                        break\n",
    "                        \n",
    "                    if date[-5:] <= TIME_STOP[0].strftime('%H:%M') or date[-5:] >= TIME_STOP[1].strftime('%H:%M'):\n",
    "                        TF = True\n",
    "                        break\n",
    "                                            \n",
    "                    title = k.select('td.title > a')[0]['title']\n",
    "                    print(title)\n",
    "                    view =K[1].text\n",
    "                    view = int(view)\n",
    "                    put_data = (date,title,view)\n",
    "\n",
    "                                         # 'pos':pos,\n",
    "                                         #  'neg':neg\n",
    "\n",
    "                    \n",
    "                    title_result.append(put_data)\n",
    "\n",
    "        ya[acode] = title_result\n",
    "\n",
    "    return ya\n"
   ]
  },
  {
   "cell_type": "markdown",
   "metadata": {},
   "source": [
    "## producer code"
   ]
  },
  {
   "cell_type": "code",
   "execution_count": null,
   "metadata": {},
   "outputs": [],
   "source": [
    "\n",
    "bootstrap_servers = [\"localhost:9092\"]#, \"localhost:9093\"]  # kafka broker ip\n",
    "topicName = 'NAVER_test'\n",
    "producer = KafkaProducer(bootstrap_servers=bootstrap_servers)\n",
    "\n",
    "\n",
    "def msg():\n",
    "    #스케줄링\n",
    "    result = dict()\n",
    "    current = 1\n",
    "    while True:\n",
    "        #start = time.time()\n",
    "        result = naver_crawl(current,result)\n",
    "        #end = time.time()\n",
    "        #print(end-start)\n",
    "        if TIME_MAPPING[current][1].strftime('%H:%M') <= datetime.datetime.now().strftime('%H:%M'):\n",
    "            producer.send(topicName, str(result).encode())\n",
    "            current+=1\n",
    "            result=dict()\n",
    "        if current == 85:\n",
    "            break\n",
    "        #tim = datetime.datetime.now().strftime('%Y-%m-%d %H:%M:%S')\n",
    "        #producer.send(topicName, tim.encode())\n",
    "schedule.every().day.at(\"21:28\").do(msg)\n",
    "while True:\n",
    "    \n",
    "    schedule.run_pending()\n",
    "    "
   ]
  },
  {
   "cell_type": "code",
   "execution_count": null,
   "metadata": {},
   "outputs": [],
   "source": []
  },
  {
   "cell_type": "code",
   "execution_count": null,
   "metadata": {},
   "outputs": [],
   "source": []
  }
 ],
 "metadata": {
  "kernelspec": {
   "display_name": "Python 3",
   "language": "python",
   "name": "python3"
  },
  "language_info": {
   "codemirror_mode": {
    "name": "ipython",
    "version": 3
   },
   "file_extension": ".py",
   "mimetype": "text/x-python",
   "name": "python",
   "nbconvert_exporter": "python",
   "pygments_lexer": "ipython3",
   "version": "3.8.5"
  }
 },
 "nbformat": 4,
 "nbformat_minor": 4
}
