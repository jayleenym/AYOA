{
 "cells": [
  {
   "cell_type": "code",
   "execution_count": 1,
   "metadata": {},
   "outputs": [],
   "source": [
    "import requests\n",
    "from urllib import request\n",
    "from bs4 import BeautifulSoup\n",
    "import time\n",
    "import pandas as pd"
   ]
  },
  {
   "cell_type": "code",
   "execution_count": 2,
   "metadata": {},
   "outputs": [],
   "source": [
    "acode={\"호텔신라\":\"008770\",\"두산퓨얼셀\":\"336260\",\"한화솔루션\":\"009830\",\n",
    "      \"에코프로\":\"086520\",\"신성이엔지\":\"011930\",\"유니슨\":\"018000\",\n",
    "      \"카카오\":\"035720\",\"네이버\":\"035420\",\"엔씨소프트\":\"036570\",\n",
    "      \"sds\":\"018260\",\"삼성전자\":\"005930\",\"SK하이닉스\":\"000660\",\n",
    "      \"skc\":\"011790\",\"한솔케미칼\":\"014680\",\"DB하이텍\":\"000990\",\n",
    "      \"롯데쇼핑\":\"023530\",\"신세계\":\"004170\",\"삼성물산\":\"028260\",\n",
    "      \"동서\":\"026960\",\"kb금융\":\"105560\",\"한국금융지주\":\"071050\",\"신한지주\":\"055550\",\n",
    "      \"우리금융지주\":\"316140\",\"하나금융지주\":\"086790\",\n",
    "      \"넥슨지티\":\"041140\",\"한빛소프트\":\"047080\",\"코세스\":\"089890\",\n",
    "      \"드래곤플라이\":\"030350\",\"에이트원\":\"230980\",\"엔텔스\":\"069410\"}"
   ]
  },
  {
   "cell_type": "code",
   "execution_count": 3,
   "metadata": {},
   "outputs": [],
   "source": [
    "\n",
    "BASE_URL = \"https://gall.dcinside.com/board/lists?id=neostock&s_type=search_subject_memo&s_keyword=하나금융지주\"\n",
    "a = '/board/lists?id=neostock&s_type=search_subject_memo&s_keyword=하나금융지주'\n",
    "headers={'User-Agent': 'Mozilla/5.0 (Windows NT 10.0; Win64; x64) AppleWebKit/537.36 (KHTML, like Gecko) Chrome/93.0.4577.63 Safari/537.36'}\n",
    "response = requests.get(BASE_URL,headers=headers)\n",
    "soup = BeautifulSoup(response.text,'html.parser')\n",
    "items = soup.find('div',{'class':\"bottom_paging_box\"})\n",
    "\n",
    "#리스트 만들기 url\n",
    "url_list=[a]\n",
    "for i in items.find_all('a'):\n",
    "    url_url = i['href']\n",
    "\n",
    "    url_list.append(url_url)"
   ]
  },
  {
   "cell_type": "code",
   "execution_count": 8,
   "metadata": {},
   "outputs": [],
   "source": [
    "#from pymongo import MongoClient\n",
    "#client = MongoClient('localhost', 27017)\n",
    "#db = client['DC']\n",
    "#collection = db['DC_title_crawl']\n",
    "\n",
    "\n",
    "page=30\n",
    "\n",
    "\n",
    "        \n",
    "def title_craw(ls):\n",
    "\n",
    "    \n",
    "    #date_stop = \"2021-08-19\"\n",
    "    #seen_date = db.DC_title_crawl.find({\"code\":acode}).sort('date', -1).limit(1)\n",
    "    \n",
    "    #seen_date = list(seen_date)\n",
    "    #if not seen_date:\n",
    "        \n",
    "    #    seen_date = \"2021.08.19 00:00\"\n",
    "\n",
    "    for i in range(0,len(ls)-1):\n",
    "\n",
    "        response = requests.get('https://gall.dcinside.com' + str(ls[i]),headers=headers)\n",
    "        soup = BeautifulSoup(response.content,'html.parser')\n",
    "        items = soup.find_all(\"table\",{'class':'gall_list'})\n",
    "        contents = soup.find('tbody').find_all('tr')\n",
    "\n",
    "    for j in contents:\n",
    "\n",
    "        if j.find('td',{'class':'gall_writer ub-writer'}).text=='운영자':\n",
    "            pass\n",
    "        else:\n",
    "\n",
    "            #new_dict={}\n",
    "            #제목\n",
    "           # title = j.find('a').text\n",
    "           # Title.append(title)\n",
    "\n",
    "\n",
    "        #날짜\n",
    "            date_tag = j.find('td',{'class':'gall_date'})\n",
    "\n",
    "            date_dict = date_tag.attrs\n",
    "\n",
    "\n",
    "            #if date_dict['title'][:10] <= date_stop:\n",
    "            #    TF = True\n",
    "            #    return -1\n",
    "            #else:\n",
    "\n",
    "               # Date.append(date_dict['title'])\n",
    "\n",
    "\n",
    "\n",
    "                #제목\n",
    "            title = j.find('a').text\n",
    "               # Title.append(title)\n",
    "\n",
    "\n",
    "\n",
    "                            #추천수\n",
    "            recommend_tag = j.find('td', class_='gall_recommend')\n",
    "            recommend = recommend_tag.text\n",
    "                #Rec.append(recommend)\n",
    "\n",
    "                            #조회수\n",
    "\n",
    "            views_tag = j.find('td', class_='gall_count')\n",
    "            views = views_tag.text\n",
    "                #View.append(views)\n",
    "                \n",
    "            put_data = {\n",
    "                                 'code':\"086790\",\n",
    "                                 'date':date_dict['title'],\n",
    "                                  'title':title,\n",
    "                                  'Rec':recommend,\n",
    "                                  'View':views           }\n",
    "            print(put_data)\n",
    "\n",
    "            \n",
    "                "
   ]
  },
  {
   "cell_type": "code",
   "execution_count": 27,
   "metadata": {},
   "outputs": [],
   "source": [
    "def page_check(url_list):\n",
    "    \n",
    "  \n",
    "    title_craw(url_list)\n",
    "\n",
    "    k = 0\n",
    "\n",
    "\n",
    "    while k< page :\n",
    "        response = requests.get('https://gall.dcinside.com' + str(url_list[-1]),headers=headers)\n",
    "        soup = BeautifulSoup(response.content,'html.parser')\n",
    "        items = soup.find('div',{'class':\"bottom_paging_box\"})\n",
    "        url_list=[str(url_list[-1])]\n",
    "\n",
    "        for i in items.find_all('a'):\n",
    "            url_url = i['href']\n",
    "            url_list.append(url_url)\n",
    "        url_list.pop(1) \n",
    "     \n",
    "        \n",
    "        if title_craw(url_list)==-1:\n",
    "            break\n",
    "        else:\n",
    "            k=k+1"
   ]
  },
  {
   "cell_type": "code",
   "execution_count": 31,
   "metadata": {},
   "outputs": [
    {
     "name": "stdout",
     "output_type": "stream",
     "text": [
      "{'code': '086790', 'date': '2021-07-23 18:05:45', 'title': '하나금융지주 배당 주당700원이라는데 지금 들어가는거', 'Rec': '0', 'View': '89'}\n",
      "{'code': '086790', 'date': '2021-07-23 14:02:44', 'title': '하나금융지주 왤케 빠졋음?', 'Rec': '0', 'View': '51'}\n",
      "{'code': '086790', 'date': '2021-07-22 18:16:40', 'title': '하나은행 압수수색', 'Rec': '0', 'View': '144'}\n",
      "{'code': '086790', 'date': '2021-07-20 09:29:25', 'title': '지금 kb증권 하나금융지주 매수하는거 어떰', 'Rec': '0', 'View': '170'}\n",
      "{'code': '086790', 'date': '2021-07-07 00:15:47', 'title': '하나금융지주 내일 망하나', 'Rec': '0', 'View': '196'}\n",
      "{'code': '086790', 'date': '2021-07-04 20:37:19', 'title': '카카오뱅크 예측 시총 18조라는거 나만 거품같냐?.ask', 'Rec': '0', 'View': '236'}\n",
      "{'code': '086790', 'date': '2021-07-04 17:11:33', 'title': '님들 하나금융지주 사놓고 놔두면 돈벌어요? ㅇㅇ', 'Rec': '0', 'View': '122'}\n",
      "{'code': '086790', 'date': '2021-07-02 00:15:16', 'title': 'KB,신한,하나금융지주 주식 상승여력전망', 'Rec': '0', 'View': '139'}\n",
      "{'code': '086790', 'date': '2021-06-30 12:56:18', 'title': '카뱅 18조 몸값 논란...하반기 공모주 영향은?', 'Rec': '1', 'View': '216'}\n",
      "{'code': '086790', 'date': '2021-06-28 10:37:02', 'title': '하나금융지주 탈만하냐??!', 'Rec': '0', 'View': '120'}\n",
      "{'code': '086790', 'date': '2021-06-27 13:19:33', 'title': 'KB,신한,하나금융지주 기업분석 및 상승여력전망', 'Rec': '1', 'View': '158'}\n",
      "{'code': '086790', 'date': '2021-06-25 10:27:23', 'title': '현대건설 하나금융지주 달다', 'Rec': '0', 'View': '38'}\n",
      "{'code': '086790', 'date': '2021-06-23 08:03:06', 'title': '하나금융지주 1500주 있으면 배당금 얼마받음?', 'Rec': '0', 'View': '190'}\n",
      "{'code': '086790', 'date': '2021-06-22 16:21:02', 'title': '닉값하는 주식.jpg', 'Rec': '2', 'View': '252'}\n",
      "{'code': '086790', 'date': '2021-06-19 00:03:50', 'title': '하나금융지주 6월말 날짜기준으로 배당?', 'Rec': '0', 'View': '172'}\n",
      "{'code': '086790', 'date': '2021-06-10 03:43:25', 'title': '오늘 하루 무조건 먹는 예상 급등주 분산 포트폴리오(최종)', 'Rec': '30', 'View': '7822'}\n",
      "{'code': '086790', 'date': '2021-05-24 12:49:57', 'title': '05.24. 리포트 분석', 'Rec': '2', 'View': '908'}\n"
     ]
    }
   ],
   "source": [
    "page_check(url_list)"
   ]
  },
  {
   "cell_type": "code",
   "execution_count": null,
   "metadata": {},
   "outputs": [],
   "source": [
    "title_craw()"
   ]
  },
  {
   "cell_type": "code",
   "execution_count": 30,
   "metadata": {},
   "outputs": [
    {
     "name": "stdout",
     "output_type": "stream",
     "text": [
      "{'code': '086790', 'date': '2021-07-23 18:05:45', 'title': '하나금융지주 배당 주당700원이라는데 지금 들어가는거', 'Rec': '0', 'View': '89'}\n",
      "{'code': '086790', 'date': '2021-07-23 14:02:44', 'title': '하나금융지주 왤케 빠졋음?', 'Rec': '0', 'View': '51'}\n",
      "{'code': '086790', 'date': '2021-07-22 18:16:40', 'title': '하나은행 압수수색', 'Rec': '0', 'View': '144'}\n",
      "{'code': '086790', 'date': '2021-07-20 09:29:25', 'title': '지금 kb증권 하나금융지주 매수하는거 어떰', 'Rec': '0', 'View': '170'}\n",
      "{'code': '086790', 'date': '2021-07-07 00:15:47', 'title': '하나금융지주 내일 망하나', 'Rec': '0', 'View': '196'}\n",
      "{'code': '086790', 'date': '2021-07-04 20:37:19', 'title': '카카오뱅크 예측 시총 18조라는거 나만 거품같냐?.ask', 'Rec': '0', 'View': '236'}\n",
      "{'code': '086790', 'date': '2021-07-04 17:11:33', 'title': '님들 하나금융지주 사놓고 놔두면 돈벌어요? ㅇㅇ', 'Rec': '0', 'View': '122'}\n",
      "{'code': '086790', 'date': '2021-07-02 00:15:16', 'title': 'KB,신한,하나금융지주 주식 상승여력전망', 'Rec': '0', 'View': '139'}\n",
      "{'code': '086790', 'date': '2021-06-30 12:56:18', 'title': '카뱅 18조 몸값 논란...하반기 공모주 영향은?', 'Rec': '1', 'View': '216'}\n",
      "{'code': '086790', 'date': '2021-06-28 10:37:02', 'title': '하나금융지주 탈만하냐??!', 'Rec': '0', 'View': '120'}\n",
      "{'code': '086790', 'date': '2021-06-27 13:19:33', 'title': 'KB,신한,하나금융지주 기업분석 및 상승여력전망', 'Rec': '1', 'View': '158'}\n",
      "{'code': '086790', 'date': '2021-06-25 10:27:23', 'title': '현대건설 하나금융지주 달다', 'Rec': '0', 'View': '38'}\n",
      "{'code': '086790', 'date': '2021-06-23 08:03:06', 'title': '하나금융지주 1500주 있으면 배당금 얼마받음?', 'Rec': '0', 'View': '190'}\n",
      "{'code': '086790', 'date': '2021-06-22 16:21:02', 'title': '닉값하는 주식.jpg', 'Rec': '2', 'View': '252'}\n",
      "{'code': '086790', 'date': '2021-06-19 00:03:50', 'title': '하나금융지주 6월말 날짜기준으로 배당?', 'Rec': '0', 'View': '172'}\n",
      "{'code': '086790', 'date': '2021-06-10 03:43:25', 'title': '오늘 하루 무조건 먹는 예상 급등주 분산 포트폴리오(최종)', 'Rec': '30', 'View': '7822'}\n",
      "{'code': '086790', 'date': '2021-05-24 12:49:57', 'title': '05.24. 리포트 분석', 'Rec': '2', 'View': '908'}\n"
     ]
    },
    {
     "ename": "TypeError",
     "evalue": "'NoneType' object is not iterable",
     "output_type": "error",
     "traceback": [
      "\u001b[0;31m---------------------------------------------------------------------------\u001b[0m",
      "\u001b[0;31mTypeError\u001b[0m                                 Traceback (most recent call last)",
      "\u001b[0;32m<ipython-input-30-36cf00d820ff>\u001b[0m in \u001b[0;36m<module>\u001b[0;34m\u001b[0m\n\u001b[0;32m----> 1\u001b[0;31m \u001b[0;32mfor\u001b[0m \u001b[0mi\u001b[0m \u001b[0;32min\u001b[0m \u001b[0mpage_check\u001b[0m\u001b[0;34m(\u001b[0m\u001b[0murl_list\u001b[0m\u001b[0;34m)\u001b[0m\u001b[0;34m:\u001b[0m\u001b[0;34m\u001b[0m\u001b[0;34m\u001b[0m\u001b[0m\n\u001b[0m\u001b[1;32m      2\u001b[0m     \u001b[0mprint\u001b[0m\u001b[0;34m(\u001b[0m\u001b[0mi\u001b[0m\u001b[0;34m)\u001b[0m\u001b[0;34m\u001b[0m\u001b[0;34m\u001b[0m\u001b[0m\n",
      "\u001b[0;31mTypeError\u001b[0m: 'NoneType' object is not iterable"
     ]
    }
   ],
   "source": [
    "\n",
    "\n",
    "\n",
    "\n",
    "\n",
    "for i in page_check(url_list):\n",
    "    print(i)"
   ]
  },
  {
   "cell_type": "code",
   "execution_count": 33,
   "metadata": {},
   "outputs": [
    {
     "name": "stdout",
     "output_type": "stream",
     "text": [
      "{'code': '086790', 'date': '2021-07-23 18:05:45', 'title': '하나금융지주 배당 주당700원이라는데 지금 들어가는거', 'Rec': '0', 'View': '89'}\n",
      "{'code': '086790', 'date': '2021-07-23 14:02:44', 'title': '하나금융지주 왤케 빠졋음?', 'Rec': '0', 'View': '51'}\n",
      "{'code': '086790', 'date': '2021-07-22 18:16:40', 'title': '하나은행 압수수색', 'Rec': '0', 'View': '144'}\n",
      "{'code': '086790', 'date': '2021-07-20 09:29:25', 'title': '지금 kb증권 하나금융지주 매수하는거 어떰', 'Rec': '0', 'View': '170'}\n",
      "{'code': '086790', 'date': '2021-07-07 00:15:47', 'title': '하나금융지주 내일 망하나', 'Rec': '0', 'View': '196'}\n",
      "{'code': '086790', 'date': '2021-07-04 20:37:19', 'title': '카카오뱅크 예측 시총 18조라는거 나만 거품같냐?.ask', 'Rec': '0', 'View': '236'}\n",
      "{'code': '086790', 'date': '2021-07-04 17:11:33', 'title': '님들 하나금융지주 사놓고 놔두면 돈벌어요? ㅇㅇ', 'Rec': '0', 'View': '122'}\n",
      "{'code': '086790', 'date': '2021-07-02 00:15:16', 'title': 'KB,신한,하나금융지주 주식 상승여력전망', 'Rec': '0', 'View': '139'}\n",
      "{'code': '086790', 'date': '2021-06-30 12:56:18', 'title': '카뱅 18조 몸값 논란...하반기 공모주 영향은?', 'Rec': '1', 'View': '216'}\n",
      "{'code': '086790', 'date': '2021-06-28 10:37:02', 'title': '하나금융지주 탈만하냐??!', 'Rec': '0', 'View': '120'}\n",
      "{'code': '086790', 'date': '2021-06-27 13:19:33', 'title': 'KB,신한,하나금융지주 기업분석 및 상승여력전망', 'Rec': '1', 'View': '158'}\n",
      "{'code': '086790', 'date': '2021-06-25 10:27:23', 'title': '현대건설 하나금융지주 달다', 'Rec': '0', 'View': '38'}\n",
      "{'code': '086790', 'date': '2021-06-23 08:03:06', 'title': '하나금융지주 1500주 있으면 배당금 얼마받음?', 'Rec': '0', 'View': '190'}\n",
      "{'code': '086790', 'date': '2021-06-22 16:21:02', 'title': '닉값하는 주식.jpg', 'Rec': '2', 'View': '252'}\n",
      "{'code': '086790', 'date': '2021-06-19 00:03:50', 'title': '하나금융지주 6월말 날짜기준으로 배당?', 'Rec': '0', 'View': '172'}\n",
      "{'code': '086790', 'date': '2021-06-10 03:43:25', 'title': '오늘 하루 무조건 먹는 예상 급등주 분산 포트폴리오(최종)', 'Rec': '30', 'View': '7822'}\n",
      "{'code': '086790', 'date': '2021-05-24 12:49:57', 'title': '05.24. 리포트 분석', 'Rec': '2', 'View': '908'}\n"
     ]
    },
    {
     "ename": "TypeError",
     "evalue": "'NoneType' object is not iterable",
     "output_type": "error",
     "traceback": [
      "\u001b[0;31m---------------------------------------------------------------------------\u001b[0m",
      "\u001b[0;31mTypeError\u001b[0m                                 Traceback (most recent call last)",
      "\u001b[0;32m<ipython-input-33-5145d9b21243>\u001b[0m in \u001b[0;36m<module>\u001b[0;34m\u001b[0m\n\u001b[1;32m     10\u001b[0m \u001b[0;34m\u001b[0m\u001b[0m\n\u001b[1;32m     11\u001b[0m \u001b[0;34m\u001b[0m\u001b[0m\n\u001b[0;32m---> 12\u001b[0;31m \u001b[0;32mfor\u001b[0m \u001b[0mi\u001b[0m \u001b[0;32min\u001b[0m \u001b[0mpage_check\u001b[0m\u001b[0;34m(\u001b[0m\u001b[0murl_list\u001b[0m\u001b[0;34m)\u001b[0m\u001b[0;34m:\u001b[0m\u001b[0;34m\u001b[0m\u001b[0;34m\u001b[0m\u001b[0m\n\u001b[0m\u001b[1;32m     13\u001b[0m     \u001b[0mprint\u001b[0m\u001b[0;34m(\u001b[0m\u001b[0mi\u001b[0m\u001b[0;34m)\u001b[0m\u001b[0;34m\u001b[0m\u001b[0;34m\u001b[0m\u001b[0m\n\u001b[1;32m     14\u001b[0m     \u001b[0mproducer\u001b[0m\u001b[0;34m.\u001b[0m\u001b[0msend\u001b[0m\u001b[0;34m(\u001b[0m\u001b[0mtopicName\u001b[0m\u001b[0;34m,\u001b[0m \u001b[0mstr\u001b[0m\u001b[0;34m(\u001b[0m\u001b[0mi\u001b[0m\u001b[0;34m)\u001b[0m\u001b[0;34m.\u001b[0m\u001b[0mencode\u001b[0m\u001b[0;34m(\u001b[0m\u001b[0;34m)\u001b[0m\u001b[0;34m)\u001b[0m\u001b[0;34m\u001b[0m\u001b[0;34m\u001b[0m\u001b[0m\n",
      "\u001b[0;31mTypeError\u001b[0m: 'NoneType' object is not iterable"
     ]
    }
   ],
   "source": [
    "import time\n",
    "import random\n",
    "import datetime\n",
    "from kafka import KafkaProducer\n",
    "\n",
    "bootstrap_servers = ['localhost:9092','localhost:9093']  # kafka broker ip\n",
    "topicName = 'peter-topic'\n",
    "producer = KafkaProducer(bootstrap_servers=bootstrap_servers)\n",
    "\n",
    "\n",
    "\n",
    "for i in page_check(url_list):\n",
    "    print(i)\n",
    "    producer.send(topicName, str(i).encode())\n",
    "    \n",
    "    #text = 'This is ' + str(i) + ' DC'\n",
    "    #print(text)\n",
    "    tim = datetime.datetime.now().strftime('%Y-%m-%d %H:%M:%S')\n",
    "   #producer.send(topicName, text.encode())\n",
    "    producer.send(topicName, tim.encode())\n",
    "\n",
    "    time.sleep(1)\n"
   ]
  },
  {
   "cell_type": "code",
   "execution_count": null,
   "metadata": {},
   "outputs": [],
   "source": []
  }
 ],
 "metadata": {
  "kernelspec": {
   "display_name": "Python 3",
   "language": "python",
   "name": "python3"
  },
  "language_info": {
   "codemirror_mode": {
    "name": "ipython",
    "version": 3
   },
   "file_extension": ".py",
   "mimetype": "text/x-python",
   "name": "python",
   "nbconvert_exporter": "python",
   "pygments_lexer": "ipython3",
   "version": "3.8.5"
  }
 },
 "nbformat": 4,
 "nbformat_minor": 4
}
