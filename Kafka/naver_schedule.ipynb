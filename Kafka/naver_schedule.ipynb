{
 "cells": [
  {
   "cell_type": "code",
   "execution_count": 14,
   "metadata": {},
   "outputs": [
    {
     "ename": "KeyboardInterrupt",
     "evalue": "",
     "output_type": "error",
     "traceback": [
      "\u001b[0;31m---------------------------------------------------------------------------\u001b[0m",
      "\u001b[0;31mKeyboardInterrupt\u001b[0m                         Traceback (most recent call last)",
      "\u001b[0;32m<ipython-input-14-fc5abc15f4e6>\u001b[0m in \u001b[0;36m<module>\u001b[0;34m\u001b[0m\n\u001b[1;32m     33\u001b[0m \u001b[0;34m\u001b[0m\u001b[0m\n\u001b[1;32m     34\u001b[0m     \u001b[0mNOW\u001b[0m \u001b[0;34m=\u001b[0m \u001b[0mdatetime\u001b[0m\u001b[0;34m.\u001b[0m\u001b[0mdatetime\u001b[0m\u001b[0;34m.\u001b[0m\u001b[0mnow\u001b[0m\u001b[0;34m(\u001b[0m\u001b[0;34m)\u001b[0m\u001b[0;34m\u001b[0m\u001b[0;34m\u001b[0m\u001b[0m\n\u001b[0;32m---> 35\u001b[0;31m     \u001b[0mschedule\u001b[0m\u001b[0;34m.\u001b[0m\u001b[0mrun_pending\u001b[0m\u001b[0;34m(\u001b[0m\u001b[0;34m)\u001b[0m\u001b[0;34m\u001b[0m\u001b[0;34m\u001b[0m\u001b[0m\n\u001b[0m\u001b[1;32m     36\u001b[0m     \u001b[0;31m#time.sleep(1)\u001b[0m\u001b[0;34m\u001b[0m\u001b[0;34m\u001b[0m\u001b[0;34m\u001b[0m\u001b[0m\n\u001b[1;32m     37\u001b[0m \u001b[0;34m\u001b[0m\u001b[0m\n",
      "\u001b[0;32m/opt/anaconda3/lib/python3.8/site-packages/schedule/__init__.py\u001b[0m in \u001b[0;36mrun_pending\u001b[0;34m()\u001b[0m\n\u001b[1;32m    778\u001b[0m     \u001b[0;34m:\u001b[0m\u001b[0mdata\u001b[0m\u001b[0;34m:\u001b[0m\u001b[0;31m`\u001b[0m\u001b[0mdefault\u001b[0m \u001b[0mscheduler\u001b[0m \u001b[0minstance\u001b[0m \u001b[0;34m<\u001b[0m\u001b[0mdefault_scheduler\u001b[0m\u001b[0;34m>\u001b[0m\u001b[0;31m`\u001b[0m\u001b[0;34m.\u001b[0m\u001b[0;34m\u001b[0m\u001b[0;34m\u001b[0m\u001b[0m\n\u001b[1;32m    779\u001b[0m     \"\"\"\n\u001b[0;32m--> 780\u001b[0;31m     \u001b[0mdefault_scheduler\u001b[0m\u001b[0;34m.\u001b[0m\u001b[0mrun_pending\u001b[0m\u001b[0;34m(\u001b[0m\u001b[0;34m)\u001b[0m\u001b[0;34m\u001b[0m\u001b[0;34m\u001b[0m\u001b[0m\n\u001b[0m\u001b[1;32m    781\u001b[0m \u001b[0;34m\u001b[0m\u001b[0m\n\u001b[1;32m    782\u001b[0m \u001b[0;34m\u001b[0m\u001b[0m\n",
      "\u001b[0;32m/opt/anaconda3/lib/python3.8/site-packages/schedule/__init__.py\u001b[0m in \u001b[0;36mrun_pending\u001b[0;34m(self)\u001b[0m\n\u001b[1;32m     97\u001b[0m         \"\"\"\n\u001b[1;32m     98\u001b[0m         \u001b[0mrunnable_jobs\u001b[0m \u001b[0;34m=\u001b[0m \u001b[0;34m(\u001b[0m\u001b[0mjob\u001b[0m \u001b[0;32mfor\u001b[0m \u001b[0mjob\u001b[0m \u001b[0;32min\u001b[0m \u001b[0mself\u001b[0m\u001b[0;34m.\u001b[0m\u001b[0mjobs\u001b[0m \u001b[0;32mif\u001b[0m \u001b[0mjob\u001b[0m\u001b[0;34m.\u001b[0m\u001b[0mshould_run\u001b[0m\u001b[0;34m)\u001b[0m\u001b[0;34m\u001b[0m\u001b[0;34m\u001b[0m\u001b[0m\n\u001b[0;32m---> 99\u001b[0;31m         \u001b[0;32mfor\u001b[0m \u001b[0mjob\u001b[0m \u001b[0;32min\u001b[0m \u001b[0msorted\u001b[0m\u001b[0;34m(\u001b[0m\u001b[0mrunnable_jobs\u001b[0m\u001b[0;34m)\u001b[0m\u001b[0;34m:\u001b[0m\u001b[0;34m\u001b[0m\u001b[0;34m\u001b[0m\u001b[0m\n\u001b[0m\u001b[1;32m    100\u001b[0m             \u001b[0mself\u001b[0m\u001b[0;34m.\u001b[0m\u001b[0m_run_job\u001b[0m\u001b[0;34m(\u001b[0m\u001b[0mjob\u001b[0m\u001b[0;34m)\u001b[0m\u001b[0;34m\u001b[0m\u001b[0;34m\u001b[0m\u001b[0m\n\u001b[1;32m    101\u001b[0m \u001b[0;34m\u001b[0m\u001b[0m\n",
      "\u001b[0;32m/opt/anaconda3/lib/python3.8/site-packages/schedule/__init__.py\u001b[0m in \u001b[0;36m<genexpr>\u001b[0;34m(.0)\u001b[0m\n\u001b[1;32m     96\u001b[0m         \u001b[0mbetween\u001b[0m \u001b[0mbut\u001b[0m \u001b[0monly\u001b[0m \u001b[0monce\u001b[0m\u001b[0;34m.\u001b[0m\u001b[0;34m\u001b[0m\u001b[0;34m\u001b[0m\u001b[0m\n\u001b[1;32m     97\u001b[0m         \"\"\"\n\u001b[0;32m---> 98\u001b[0;31m         \u001b[0mrunnable_jobs\u001b[0m \u001b[0;34m=\u001b[0m \u001b[0;34m(\u001b[0m\u001b[0mjob\u001b[0m \u001b[0;32mfor\u001b[0m \u001b[0mjob\u001b[0m \u001b[0;32min\u001b[0m \u001b[0mself\u001b[0m\u001b[0;34m.\u001b[0m\u001b[0mjobs\u001b[0m \u001b[0;32mif\u001b[0m \u001b[0mjob\u001b[0m\u001b[0;34m.\u001b[0m\u001b[0mshould_run\u001b[0m\u001b[0;34m)\u001b[0m\u001b[0;34m\u001b[0m\u001b[0;34m\u001b[0m\u001b[0m\n\u001b[0m\u001b[1;32m     99\u001b[0m         \u001b[0;32mfor\u001b[0m \u001b[0mjob\u001b[0m \u001b[0;32min\u001b[0m \u001b[0msorted\u001b[0m\u001b[0;34m(\u001b[0m\u001b[0mrunnable_jobs\u001b[0m\u001b[0;34m)\u001b[0m\u001b[0;34m:\u001b[0m\u001b[0;34m\u001b[0m\u001b[0;34m\u001b[0m\u001b[0m\n\u001b[1;32m    100\u001b[0m             \u001b[0mself\u001b[0m\u001b[0;34m.\u001b[0m\u001b[0m_run_job\u001b[0m\u001b[0;34m(\u001b[0m\u001b[0mjob\u001b[0m\u001b[0;34m)\u001b[0m\u001b[0;34m\u001b[0m\u001b[0;34m\u001b[0m\u001b[0m\n",
      "\u001b[0;31mKeyboardInterrupt\u001b[0m: "
     ]
    }
   ],
   "source": [
    "import schedule\n",
    "import time\n",
    "\n",
    "# step2.실행할 함수 선언\n",
    "def message():\n",
    "    print(\"스케쥴 실행중...\")\n",
    "    for key,value in ACODE.items():\n",
    "        result = naver_crawl(value,datetime.datetime.now())\n",
    "        for i in result:\n",
    "            print(i)\n",
    "#         return\n",
    "\n",
    "    \n",
    "# step3.실행 주기 설정\n",
    "job = schedule.every(5).minutes.do(message)\n",
    "\n",
    "\n",
    "\n",
    "\n",
    "# step4.스캐쥴 시작\n",
    "count = 0\n",
    "#current = datetime.datetime.now()\n",
    "#five_minutes_later = current + datetime.timedelta(minutes=5)\n",
    "\n",
    "\n",
    "#3시 5분 - 3시 10분 => 15분 예측\n",
    "# 현재 3시 5분이면, 3시부터- 3시 4분 => 5분이나 10분의 데이터 예측..?\n",
    "while True:\n",
    "    \n",
    "    NOW = datetime.datetime.now()\n",
    "    schedule.run_pending()\n",
    "    #time.sleep(1)\n",
    "    \n",
    "    \n",
    "\n",
    "   # if datetime.datetime.now().strftime(\"%H:%M\") == NOW.strftime(\"%H:%M\"):\n",
    "   #     schedule.cancel_job(job)"
   ]
  },
  {
   "cell_type": "code",
   "execution_count": 52,
   "metadata": {
    "scrolled": true
   },
   "outputs": [
    {
     "name": "stdout",
     "output_type": "stream",
     "text": [
      "False\n"
     ]
    },
    {
     "data": {
      "text/plain": [
       "datetime.datetime(2022, 1, 7, 16, 0)"
      ]
     },
     "execution_count": 52,
     "metadata": {},
     "output_type": "execute_result"
    }
   ],
   "source": [
    "# while datetime.datetime.now() != five_minutes_later: print(1)\n",
    "print(datetime.datetime(2022,1,7,15,55) == five)\n",
    "# five_minutes_later\n",
    "five = (current + datetime.timedelta(minutes = 5)).replace(microsecond = 0).replace(second = 0)\n",
    "five"
   ]
  },
  {
   "cell_type": "code",
   "execution_count": 53,
   "metadata": {},
   "outputs": [
    {
     "data": {
      "text/plain": [
       "datetime.datetime(2022, 1, 7, 15, 55, 6, 194388)"
      ]
     },
     "execution_count": 53,
     "metadata": {},
     "output_type": "execute_result"
    }
   ],
   "source": [
    "current"
   ]
  },
  {
   "cell_type": "code",
   "execution_count": 34,
   "metadata": {},
   "outputs": [
    {
     "name": "stdout",
     "output_type": "stream",
     "text": [
      "2022-01-07 16:05:06.194388\n"
     ]
    }
   ],
   "source": [
    "from datetime import datetime\n",
    "import datetime\n",
    "\n",
    "current = datetime.datetime.now()\n",
    "ten_minutes_later = current + datetime.timedelta(minutes=10)\n",
    "\n",
    "print(str(ten_minutes_later))\n",
    "\n"
   ]
  },
  {
   "cell_type": "code",
   "execution_count": null,
   "metadata": {},
   "outputs": [],
   "source": []
  },
  {
   "cell_type": "code",
   "execution_count": 1,
   "metadata": {},
   "outputs": [],
   "source": [
    "import requests\n",
    "from urllib import request\n",
    "from bs4 import BeautifulSoup\n",
    "import time\n",
    "import pandas as pd\n",
    "from requests.compat import urlparse, urljoin\n",
    "from requests.exceptions import HTTPError\n",
    "import time\n",
    "import sqlite3\n",
    "from requests import Session\n",
    "from bs4 import BeautifulSoup\n",
    "import re\n",
    "import datetime\n",
    "import pandas as pd\n",
    "import datetime\n",
    "from tqdm import tqdm"
   ]
  },
  {
   "cell_type": "code",
   "execution_count": 2,
   "metadata": {},
   "outputs": [],
   "source": [
    "ACODE = {\"호텔신라\":\"008770\",\"두산퓨얼셀\":\"336260\",\"한화솔루션\":\"009830\",\n",
    "            \"에코프로\":\"086520\",\"신성이엔지\":\"011930\",\"유니슨\":\"018000\",\n",
    "            \"카카오\":\"035720\",\"네이버\":\"035420\",\"엔씨소프트\":\"036570\",\n",
    "            \"sds\":\"018260\",\"삼성전자\":\"005930\",\"SK하이닉스\":\"000660\",\n",
    "            \"skc\":\"011790\",\"한솔케미칼\":\"014680\",\"DB하이텍\":\"000990\",\n",
    "            \"롯데쇼핑\":\"023530\",\"신세계\":\"004170\",\"삼성물산\":\"028260\",\n",
    "            \"동서\":\"026960\",\"kb금융\":\"105560\",\"한국금융지주\":\"071050\",\"신한지주\":\"055550\",\n",
    "            \"우리금융지주\":\"316140\",\"하나금융지주\":\"086790\",\n",
    "         \"넥슨지티\":\"041140\",\"한빛소프트\":\"047080\",\"코세스\":\"089890\",\n",
    "      \"드래곤플라이\":\"030350\",\"에이트원\":\"230980\",\"엔텔스\":\"069410\"}"
   ]
  },
  {
   "cell_type": "code",
   "execution_count": 3,
   "metadata": {},
   "outputs": [],
   "source": [
    "def download(url, params={}, headers={}, method='GET', limit=3):\n",
    "    try:\n",
    "        session = Session()\n",
    "        resp = session.request(method, url,\n",
    "                               params=params if method.upper() == 'GET' else '',\n",
    "                               data=params if method.upper() == 'POST' else '',\n",
    "                               headers=headers)\n",
    "        resp.raise_for_status()\n",
    "    except HTTPError as e:\n",
    "        if limit > 0 and e.response.status_code >= 500:\n",
    "            print(limit)\n",
    "            time.sleep(60)  # Server Error이기 때문에 delay를 두고 실행하기 위해서 사용한다.\n",
    "            # 보통은 5분에 한 번꼴로 random하게 되도록 설정한다.\n",
    "            download(url, params, headers, method, limit - 1)\n",
    "        else:\n",
    "            print('[{}] '.format(e.response.status_code) + url)\n",
    "            print(e.response.reason)\n",
    "            print(e.response.headers)\n",
    "\n",
    "    return resp"
   ]
  },
  {
   "cell_type": "code",
   "execution_count": 4,
   "metadata": {},
   "outputs": [
    {
     "ename": "NameError",
     "evalue": "name 'current' is not defined",
     "output_type": "error",
     "traceback": [
      "\u001b[0;31m---------------------------------------------------------------------------\u001b[0m",
      "\u001b[0;31mNameError\u001b[0m                                 Traceback (most recent call last)",
      "\u001b[0;32m<ipython-input-4-7bf282578a61>\u001b[0m in \u001b[0;36m<module>\u001b[0;34m\u001b[0m\n\u001b[0;32m----> 1\u001b[0;31m \u001b[0;34m(\u001b[0m\u001b[0mcurrent\u001b[0m \u001b[0;34m+\u001b[0m \u001b[0mdatetime\u001b[0m\u001b[0;34m.\u001b[0m\u001b[0mtimedelta\u001b[0m\u001b[0;34m(\u001b[0m\u001b[0mminutes\u001b[0m \u001b[0;34m=\u001b[0m \u001b[0;36m5\u001b[0m\u001b[0;34m)\u001b[0m\u001b[0;34m)\u001b[0m\u001b[0;34m.\u001b[0m\u001b[0mstrftime\u001b[0m\u001b[0;34m(\u001b[0m\u001b[0;34m\"%Y.%m.%d %H:%M\"\u001b[0m\u001b[0;34m)\u001b[0m\u001b[0;34m\u001b[0m\u001b[0;34m\u001b[0m\u001b[0m\n\u001b[0m",
      "\u001b[0;31mNameError\u001b[0m: name 'current' is not defined"
     ]
    }
   ],
   "source": [
    "(current + datetime.timedelta(minutes = 5)).strftime(\"%Y.%m.%d %H:%M\")"
   ]
  },
  {
   "cell_type": "code",
   "execution_count": 12,
   "metadata": {},
   "outputs": [],
   "source": [
    "# current = datetime.datetime.now()\n",
    "# five_min = current + datetime.timedelta(minutes=5)\n",
    "\n",
    "\n",
    "\n",
    "\n",
    "def naver_crawl(acode, current):\n",
    "    headers = {'User-Agent': 'Mozilla/5.0 (Windows NT 10.0; Win64; x64) AppleWebKit/537.36 (KHTML, like Gecko) Chrome/93.0.4577.63 Safari/537.36'}\n",
    "    pages = [1]\n",
    "    title_result=[]\n",
    "\n",
    "    seen_date = current.strftime(\"%Y.%m.%d %H:%M\")\n",
    "#     print(TIME_STOP)\n",
    "    #seen_date = db.naver_title_crawl_1114.find({\"code\":acode}).sort('date', -1).limit(1)\n",
    "    \n",
    "    #sort 전 어떤 변수에 저장해서, \n",
    "    #코드 기준으로 가져와서 데이트 정렬\n",
    "    #seen_date = list(seen_date)\n",
    "    #if not seen_date:\n",
    "        \n",
    "#     seen_date = five_min\n",
    "    TIME_STOP = (current - datetime.timedelta(minutes = 10)).strftime(\"%Y.%m.%d %H:%M\")\n",
    "#     print(seen_date)\n",
    "\n",
    "#     TF = False\n",
    "\n",
    "    for page in pages:\n",
    "            #title_result=[]\n",
    "        pages.append(page + 1)\n",
    "        url = 'https://finance.naver.com/item/board.nhn?code={}&page={}'.format(acode,page)\n",
    "        resp = download(url, headers = headers)\n",
    "        dom = BeautifulSoup(resp.content, 'lxml')\n",
    "        table = dom.find('table', {'class' : 'type2'})\n",
    "        tt = table.select('tbody > tr')\n",
    "        for k in tt[2:]:\n",
    "            if len(k.select('td > span')) > 0:\n",
    "                date = k.select('td > span')[0].text\n",
    "                print('hi', date)\n",
    "                if TIME_STOP == date or date==seen_date : #date <= seen_date or TIME_STOP == date:\n",
    "                    #씬이랑 긁어온 날짜랑은 씬이 더 커야지. 데이트보다 timestop 작아야함.\n",
    "                    print('범위 밖 ㅃㅇ')\n",
    "                    break\n",
    "#                     TF = True\n",
    "#                     break\n",
    "\n",
    "                title = k.select('td.title > a')[0]['title']\n",
    "                views = k.select('td > span')[1].text\n",
    "                pos = k.select('td > strong')[0].text\n",
    "                neg = k.select('td > strong')[1].text\n",
    "                # print(title)\n",
    "\n",
    "                put_data = {\n",
    "                                     'code':acode,\n",
    "                                     'date':date,\n",
    "                                    'title':title,\n",
    "                                      'views':views,\n",
    "                                      'pos':pos,\n",
    "                                       'neg':neg\n",
    "                                                 }\n",
    "                print(put_data)\n",
    "                title_result.append(put_data)\n",
    "                \n",
    "        #if TF:\n",
    "            #break\n",
    "        return title_result\n",
    "        #else:\n",
    "#         print(title_result)"
   ]
  },
  {
   "cell_type": "code",
   "execution_count": 13,
   "metadata": {},
   "outputs": [
    {
     "name": "stdout",
     "output_type": "stream",
     "text": [
      "hi 2022.01.07 17:31\n",
      "{'code': '035720', 'date': '2022.01.07 17:31', 'title': '드디어 카카오도 메타버스에 탑승했군요. 출발하네요', 'views': '15', 'pos': '1', 'neg': '1'}\n",
      "hi 2022.01.07 17:28\n",
      "{'code': '035720', 'date': '2022.01.07 17:28', 'title': '======나스닥 선물 대폭락중====', 'views': '24', 'pos': '0', 'neg': '1'}\n",
      "hi 2022.01.07 17:27\n",
      "{'code': '035720', 'date': '2022.01.07 17:27', 'title': '한창  잘나갈때', 'views': '25', 'pos': '1', 'neg': '0'}\n",
      "hi 2022.01.07 17:23\n",
      "{'code': '035720', 'date': '2022.01.07 17:23', 'title': '부정적 기사, 목표가 하향  -> 곧 오르겠네.', 'views': '79', 'pos': '3', 'neg': '1'}\n",
      "hi 2022.01.07 17:21\n",
      "{'code': '035720', 'date': '2022.01.07 17:21', 'title': '7천 날라갔네 ㅜㅜ', 'views': '173', 'pos': '1', 'neg': '0'}\n",
      "hi 2022.01.07 17:19\n",
      "{'code': '035720', 'date': '2022.01.07 17:19', 'title': '10만이 무너지고있다', 'views': '55', 'pos': '1', 'neg': '2'}\n",
      "hi 2022.01.07 17:18\n",
      "{'code': '035720', 'date': '2022.01.07 17:18', 'title': '내리기전까진 내렸다 할 수 없다', 'views': '43', 'pos': '0', 'neg': '0'}\n",
      "hi 2022.01.07 17:16\n",
      "{'code': '035720', 'date': '2022.01.07 17:16', 'title': '이 개미지옥에서 건지실 분은 단 한분', 'views': '153', 'pos': '2', 'neg': '0'}\n",
      "hi 2022.01.07 17:15\n",
      "{'code': '035720', 'date': '2022.01.07 17:15', 'title': '평단112500원', 'views': '253', 'pos': '0', 'neg': '3'}\n",
      "hi 2022.01.07 17:15\n",
      "{'code': '035720', 'date': '2022.01.07 17:15', 'title': '●굳히기  ㅡ 선거까지// 류대표는 팽인가 공범인가!!!', 'views': '34', 'pos': '0', 'neg': '0'}\n",
      "hi 2022.01.07 17:14\n",
      "{'code': '035720', 'date': '2022.01.07 17:14', 'title': '진짜 뭐냐 넌??', 'views': '63', 'pos': '0', 'neg': '0'}\n",
      "hi 2022.01.07 17:14\n",
      "{'code': '035720', 'date': '2022.01.07 17:14', 'title': '민주당 송영길 한마디에', 'views': '81', 'pos': '6', 'neg': '0'}\n",
      "hi 2022.01.07 17:14\n",
      "{'code': '035720', 'date': '2022.01.07 17:14', 'title': '10만 담주부턴 구경 못한다', 'views': '191', 'pos': '4', 'neg': '4'}\n",
      "hi 2022.01.07 17:12\n",
      "{'code': '035720', 'date': '2022.01.07 17:12', 'title': '양아치들 소상공인 피 빨아먹을때부터 알아봤다', 'views': '37', 'pos': '1', 'neg': '0'}\n",
      "hi 2022.01.07 17:12\n",
      "{'code': '035720', 'date': '2022.01.07 17:12', 'title': '시장에서 신뢰받지 못하는 안티 기업 되었나?', 'views': '38', 'pos': '0', 'neg': '0'}\n",
      "hi 2022.01.07 17:11\n",
      "{'code': '035720', 'date': '2022.01.07 17:11', 'title': '여기가 그 유명한', 'views': '55', 'pos': '0', 'neg': '0'}\n",
      "hi 2022.01.07 17:09\n",
      "{'code': '035720', 'date': '2022.01.07 17:09', 'title': '월세까지 털어넣었는데 주말 쿠팡플렉스뛴다 ', 'views': '129', 'pos': '0', 'neg': '0'}\n",
      "hi 2022.01.07 17:07\n",
      "{'code': '035720', 'date': '2022.01.07 17:07', 'title': '준비되어있었다', 'views': '111', 'pos': '0', 'neg': '1'}\n",
      "hi 2022.01.07 17:07\n",
      "{'code': '035720', 'date': '2022.01.07 17:07', 'title': '개털카오 양아치 개거품 빨대기업 ', 'views': '43', 'pos': '0', 'neg': '0'}\n",
      "hi 2022.01.07 17:03\n",
      "{'code': '035720', 'date': '2022.01.07 17:03', 'title': '기술적반등없을까요 105000', 'views': '261', 'pos': '1', 'neg': '0'}\n"
     ]
    }
   ],
   "source": [
    "result = naver_crawl(ACODE['카카오'], datetime.datetime.now())\n",
    "# ACODE.keys()"
   ]
  },
  {
   "cell_type": "code",
   "execution_count": null,
   "metadata": {},
   "outputs": [],
   "source": [
    "result"
   ]
  },
  {
   "cell_type": "code",
   "execution_count": null,
   "metadata": {},
   "outputs": [],
   "source": [
    "import time\n",
    "import random\n",
    "import datetime\n",
    "from kafka import KafkaProducer\n",
    "\n",
    "bootstrap_servers = ['localhost:9093']  # kafka broker ip\n",
    "topicName = 'NAVER'\n",
    "producer = KafkaProducer(bootstrap_servers=bootstrap_servers)\n",
    "\n",
    "\n",
    "for key,value in ACODE.items():\n",
    "    result = naver_crawl(value)\n",
    "    for i in result:\n",
    "        print(i)\n",
    "        producer.send(topicName, str(i).encode())\n",
    "\n",
    "        tim = datetime.datetime.now().strftime('%Y-%m-%d %H:%M:%S')\n",
    "        producer.send(topicName, tim.encode())"
   ]
  },
  {
   "cell_type": "code",
   "execution_count": null,
   "metadata": {},
   "outputs": [],
   "source": []
  },
  {
   "cell_type": "code",
   "execution_count": null,
   "metadata": {},
   "outputs": [],
   "source": []
  },
  {
   "cell_type": "code",
   "execution_count": null,
   "metadata": {},
   "outputs": [],
   "source": []
  }
 ],
 "metadata": {
  "kernelspec": {
   "display_name": "Python 3",
   "language": "python",
   "name": "python3"
  },
  "language_info": {
   "codemirror_mode": {
    "name": "ipython",
    "version": 3
   },
   "file_extension": ".py",
   "mimetype": "text/x-python",
   "name": "python",
   "nbconvert_exporter": "python",
   "pygments_lexer": "ipython3",
   "version": "3.8.5"
  }
 },
 "nbformat": 4,
 "nbformat_minor": 4
}
