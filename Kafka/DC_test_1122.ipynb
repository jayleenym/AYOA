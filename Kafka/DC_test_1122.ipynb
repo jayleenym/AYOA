{
 "cells": [
  {
   "cell_type": "code",
   "execution_count": null,
   "metadata": {},
   "outputs": [],
   "source": [
    "import time\n",
    "import random\n",
    "import datetime\n",
    "# dc_crawling.py 같은 폴더에 있다고 가정\n",
    "from dc_crawling import *\n",
    "from kafka import KafkaProducer"
   ]
  },
  {
   "cell_type": "code",
   "execution_count": null,
   "metadata": {},
   "outputs": [],
   "source": [
    "bootstrap_servers = ['localhost:9092','localhost:9093']  # kafka broker ip\n",
    "topicName = 'DC'\n",
    "producer = KafkaProducer(bootstrap_servers = bootstrap_servers)\n",
    "\n",
    "for t in ACODE.keys():\n",
    "        dcs = DC_crawling(t, 100)\n",
    "        for i in dcs:\n",
    "            print(i)\n",
    "            producer.send(topicName, str(i).encode())\n",
    "\n",
    "            tim = datetime.date.now().strftime(\"%Y-%m-%d %H:%M:%S\")\n",
    "            producer.send(topicName, tim.encode())\n",
    "\n",
    "            # time.sleep(1)"
   ]
  }
 ],
 "metadata": {
  "language_info": {
   "name": "python"
  },
  "orig_nbformat": 4
 },
 "nbformat": 4,
 "nbformat_minor": 2
}
