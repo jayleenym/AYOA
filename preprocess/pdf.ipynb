{
 "cells": [
  {
   "cell_type": "code",
   "execution_count": 3,
   "metadata": {},
   "outputs": [],
   "source": [
    "import os\n",
    "from collections import defaultdict\n",
    "import re\n",
    "import gensim\n",
    "import numpy as np\n",
    "\n",
    "pat = re.compile(r\"[\\w]+|[.,!?;|]\")\n",
    "ko_model = gensim.models.fasttext.load_facebook_model('cc.ko.300.bin.gz') # https://fasttext.cc/docs/en/crawl-vectors.html 에서 다운받고, 같은 폴더에 넣기\n",
    "\n",
    "# file list 불러오기\n",
    "os.chdir('PDFtoTEXT')\n",
    "total_list = dict()\n",
    "for cat in os.listdir():\n",
    "    total_list[cat] = os.listdir(cat)\n",
    "    \n",
    "# 각 파일을 열어서, 안의 내용 저장 (stopwords 처리 및 tokenizing)\n",
    "total = defaultdict(lambda: [])\n",
    "for k, v in total_list.items():\n",
    "    for i in v:\n",
    "        with open(os.path.join(k, i), 'r', encoding='utf-8') as f:\n",
    "            line = f.readlines()\n",
    "        total[k].append(pat.findall(re.sub('[-_0-9.,]', ' ', ''.join(line))))\n",
    "        \n",
    "# 단어 목록 생성\n",
    "vocab_candidate = []\n",
    "for v in total.values():\n",
    "    for i in v:\n",
    "        vocab_candidate.extend(i)\n",
    "vocab_candidate = list(set(vocab_candidate))\n",
    "\n",
    "# 단어 목록 중 pre-trained embedding matrix에 있는 단어 추출 및 embedding matrix 추출\n",
    "vocab = [i for i in vocab_candidate if ko_model.wv.vocab.get(i)]\n",
    "vocab_size = len(vocab)\n",
    "\n",
    "embedding_matrix = np.zeros((vocab_size + 1, 300))\n",
    "\n",
    "word2idx = dict()\n",
    "for i, v in enumerate(vocab):\n",
    "    idx = ko_model.wv.index2word.index(v)\n",
    "    word2idx[v] = i + 1\n",
    "    embedding_matrix[i + 1] = ko_model.wv.vectors[idx]\n",
    "    \n",
    "# OOV words 처리\n",
    "for k, v in total.items():\n",
    "    for e, i in enumerate(v):\n",
    "        total[k][e] = [word2idx[j] for j in i if word2idx.get(j)]"
   ]
  }
 ],
 "metadata": {
  "interpreter": {
   "hash": "bd7c772d0d99bb642fad8cc3263ea18348de8b3382cf83f6afc278f712ccb629"
  },
  "kernelspec": {
   "display_name": "Python 3.8.8 64-bit ('base': conda)",
   "language": "python",
   "name": "python3"
  },
  "language_info": {
   "codemirror_mode": {
    "name": "ipython",
    "version": 3
   },
   "file_extension": ".py",
   "mimetype": "text/x-python",
   "name": "python",
   "nbconvert_exporter": "python",
   "pygments_lexer": "ipython3",
   "version": "3.8.8"
  },
  "orig_nbformat": 4
 },
 "nbformat": 4,
 "nbformat_minor": 2
}
