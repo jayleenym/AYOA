{
 "cells": [
  {
   "cell_type": "code",
   "execution_count": 1,
   "metadata": {},
   "outputs": [
    {
     "name": "stdout",
     "output_type": "stream",
     "text": [
      "0\n",
      "This is 0 msg\n",
      "1\n",
      "This is 1 msg\n",
      "2\n",
      "This is 2 msg\n",
      "3\n",
      "This is 3 msg\n",
      "4\n",
      "This is 4 msg\n"
     ]
    }
   ],
   "source": [
    "import time\n",
    "import random\n",
    "import datetime\n",
    "from kafka import KafkaProducer\n",
    "\n",
    "bootstrap_servers = ['localhost:9092','localhost:9093']  # kafka broker ip\n",
    "topicName = 'peter-topic'\n",
    "producer = KafkaProducer(bootstrap_servers=bootstrap_servers)\n",
    "\n",
    "for i, _ in enumerate(range(5)):\n",
    "\n",
    "    # test1 - send numeric type\n",
    "    print(i)\n",
    "    producer.send(topicName, str(i).encode())\n",
    "\n",
    "    # test2 = send string type\n",
    "    text = 'This is ' + str(i) + ' msg'\n",
    "    print(text)\n",
    "\n",
    "    tim = datetime.datetime.now().strftime('%Y-%m-%d %H:%M:%S')\n",
    "    producer.send(topicName, text.encode())\n",
    "    producer.send(topicName, tim.encode())\n",
    "\n",
    "    time.sleep(1)"
   ]
  },
  {
   "cell_type": "code",
   "execution_count": null,
   "metadata": {},
   "outputs": [],
   "source": [
    "#돌리기 전에 크롤링을 통해 데이터를 리스트로 받을 거 같아요\n",
    "#그러면 그 리스트를 돌리면 되자나요 프로듀서 "
   ]
  }
 ],
 "metadata": {
  "kernelspec": {
   "display_name": "Python 3",
   "language": "python",
   "name": "python3"
  },
  "language_info": {
   "codemirror_mode": {
    "name": "ipython",
    "version": 3
   },
   "file_extension": ".py",
   "mimetype": "text/x-python",
   "name": "python",
   "nbconvert_exporter": "python",
   "pygments_lexer": "ipython3",
   "version": "3.8.5"
  }
 },
 "nbformat": 4,
 "nbformat_minor": 4
}
