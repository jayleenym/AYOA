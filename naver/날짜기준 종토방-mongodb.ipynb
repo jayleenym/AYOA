{
 "cells": [
  {
   "cell_type": "code",
   "execution_count": 1,
   "metadata": {},
   "outputs": [],
   "source": [
    "from requests.compat import urlparse, urljoin\n",
    "from requests.exceptions import HTTPError\n",
    "import time\n",
    "import sqlite3\n",
    "from requests import Session\n",
    "from bs4 import BeautifulSoup\n",
    "import re\n",
    "import datetime\n",
    "import pandas as pd\n",
    "import datetime\n",
    "from tqdm import tqdm"
   ]
  },
  {
   "cell_type": "code",
   "execution_count": 2,
   "metadata": {},
   "outputs": [],
   "source": [
    "def download(url, params={}, headers={}, method='GET', limit=3):\n",
    "    try:\n",
    "        session = Session()\n",
    "        resp = session.request(method, url,\n",
    "                               params=params if method.upper() == 'GET' else '',\n",
    "                               data=params if method.upper() == 'POST' else '',\n",
    "                               headers=headers)\n",
    "        resp.raise_for_status()\n",
    "    except HTTPError as e:\n",
    "        if limit > 0 and e.response.status_code >= 500:\n",
    "            print(limit)\n",
    "            time.sleep(60)  # Server Error이기 때문에 delay를 두고 실행하기 위해서 사용한다.\n",
    "            # 보통은 5분에 한 번꼴로 random하게 되도록 설정한다.\n",
    "            download(url, params, headers, method, limit - 1)\n",
    "        else:\n",
    "            print('[{}] '.format(e.response.status_code) + url)\n",
    "            print(e.response.reason)\n",
    "            print(e.response.headers)\n",
    "\n",
    "    return resp"
   ]
  },
  {
   "cell_type": "code",
   "execution_count": 7,
   "metadata": {},
   "outputs": [],
   "source": [
    "from pymongo import MongoClient\n",
    "client = MongoClient('localhost', 27017)\n",
    "db = client['title_naver']\n",
    "collection = db['naver_title_crawl']\n",
    "def crawl(acode):\n",
    "    headers = {'User-Agent': 'Mozilla/5.0 (Windows NT 10.0; Win64; x64) AppleWebKit/537.36 (KHTML, like Gecko) Chrome/93.0.4577.63 Safari/537.36'}\n",
    "\n",
    "    #date = time[:8]\n",
    "    pages = range(1, 300)\n",
    "    total_dt = pd.DataFrame([])\n",
    "    #date=='2021.08.19 00:00'\n",
    "\n",
    "    search = \"2021.08.19\"\n",
    "\n",
    "\n",
    "    for page in pages:\n",
    "        url = 'https://finance.naver.com/item/board.nhn?code={}&page={}'.format(acode, page)\n",
    "        resp = download(url, headers = headers)\n",
    "        dom = BeautifulSoup(resp.content, 'lxml')\n",
    "        table = dom.find('table', {'class' : 'type2'})\n",
    "        tt = table.select('tbody > tr')\n",
    "        \n",
    "        date_list=[]\n",
    "        for i in range(2, len(tt)):\n",
    "            if len(tt[i].select('td > span')) > 0:\n",
    "              \n",
    "                date = tt[i].select('td > span')[0].text\n",
    "                date_list.append(date)\n",
    "        for a in range(0,len(date_list)):\n",
    "            date_list[a]=date_list[a][0:10]\n",
    "        if search in date_list:\n",
    "            break\n",
    "        for i in range(2, len(tt)):\n",
    "            if len(tt[i].select('td > span')) > 0:\n",
    "                title = tt[i].select('td.title > a')[0]['title']\n",
    "                views = tt[i].select('td > span')[1].text\n",
    "                pos = tt[i].select('td > strong')[0].text\n",
    "                neg = tt[i].select('td > strong')[1].text\n",
    "                put_data = {\n",
    "                    'code':acode,\n",
    "                    'date':date,\n",
    "                    'title':title,\n",
    "                    'views':views,\n",
    "                    'pos':pos,\n",
    "                    'neg':neg\n",
    "                }\n",
    "      \n",
    "                db.naver_title_crawl.insert_one(put_data)\n",
    "\n",
    "    \n",
    "                \n",
    "            \n",
    "   # return total_dt\n"
   ]
  },
  {
   "cell_type": "code",
   "execution_count": 8,
   "metadata": {},
   "outputs": [],
   "source": [
    "acode={\"호텔신라\":\"008770\",\"두산퓨얼셀\":\"336260\",\"한화솔루션\":\"009830\",\n",
    "      \"ecopro\":\"086520\",\"shinsungeng\":\"011930\",\"unison\":\"018000\",\n",
    "      \"kakao\":\"035720\",\"naver\":\"035420\",\"nc_s\":\"036570\",\n",
    "      \"sds\":\"018260\",\"samsung_e\":\"005930\",\"sk_h\":\"000660\",\n",
    "      \"skc\":\"011790\",\"hansol\":\"014680\",\"DB\":\"000990\",\n",
    "      \"lotte_shoping\":\"023530\",\"shinse\":\"004170\",\"samsungcnt\":\"028260\",\n",
    "      \"dongsuh\":\"026960\",\"kb\":\"105560\",\"korea\":\"071050\",\"shinhan\":\"055550\",\n",
    "      \"woori\":\"316140\",\"hana\":\"086790\"}"
   ]
  },
  {
   "cell_type": "code",
   "execution_count": 9,
   "metadata": {},
   "outputs": [],
   "source": [
    "#2021.9.27 18:30 기준 -  51000개 데이터 적재...\n",
    "for code,v in acode.items():\n",
    "    result = crawl(v)\n"
   ]
  },
  {
   "cell_type": "code",
   "execution_count": 10,
   "metadata": {},
   "outputs": [
    {
     "data": {
      "text/plain": [
       "\"\\ndate_list=[]\\nfor i in range(2, len(tt)):\\n    if len(tt[i].select('td > span')) > 0:\\n              # print(i)\\n        date = tt[i].select('td > span')[0].text\\n        date_list.append(date)\\nfor i in range(0,20):\\n    date_list[i]=date_list[i][0:10]\\n\""
      ]
     },
     "execution_count": 10,
     "metadata": {},
     "output_type": "execute_result"
    }
   ],
   "source": [
    "'''\n",
    "date_list=[]\n",
    "for i in range(2, len(tt)):\n",
    "    if len(tt[i].select('td > span')) > 0:\n",
    "              # print(i)\n",
    "        date = tt[i].select('td > span')[0].text\n",
    "        date_list.append(date)\n",
    "for i in range(0,20):\n",
    "    date_list[i]=date_list[i][0:10]\n",
    "'''\n"
   ]
  },
  {
   "cell_type": "code",
   "execution_count": 11,
   "metadata": {},
   "outputs": [
    {
     "data": {
      "text/plain": [
       "\"\\nif date_list=='2021.08.19':\\n    break\\n\""
      ]
     },
     "execution_count": 11,
     "metadata": {},
     "output_type": "execute_result"
    }
   ],
   "source": [
    "'''\n",
    "if date_list=='2021.08.19':\n",
    "    break\n",
    "'''"
   ]
  }
 ],
 "metadata": {
  "kernelspec": {
   "display_name": "Python 3",
   "language": "python",
   "name": "python3"
  },
  "language_info": {
   "codemirror_mode": {
    "name": "ipython",
    "version": 3
   },
   "file_extension": ".py",
   "mimetype": "text/x-python",
   "name": "python",
   "nbconvert_exporter": "python",
   "pygments_lexer": "ipython3",
   "version": "3.8.5"
  }
 },
 "nbformat": 4,
 "nbformat_minor": 4
}
