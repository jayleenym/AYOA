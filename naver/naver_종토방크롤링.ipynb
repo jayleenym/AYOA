{
 "cells": [
  {
   "cell_type": "markdown",
   "metadata": {},
   "source": [
    "# naver 주식 종목 토론방 크롤링 \n",
    "\n",
    "### 필요한 모듈 import"
   ]
  },
  {
   "cell_type": "code",
   "execution_count": 1,
   "metadata": {},
   "outputs": [],
   "source": [
    "import requests\n",
    "from bs4 import BeautifulSoup\n",
    "import pandas as pd\n",
    "import numpy as np\n",
    "import re\n",
    "import requests\n",
    "from urllib.request import urlopen\n",
    "import lxml.html\n",
    "import time\n",
    "import json\n",
    "from wordcloud import WordCloud\n",
    "import matplotlib.pyplot as plt\n",
    "import csv"
   ]
  },
  {
   "cell_type": "code",
   "execution_count": 2,
   "metadata": {},
   "outputs": [],
   "source": [
    "base_url = 'https://finance.naver.com/item/board.nhn?code='"
   ]
  },
  {
   "cell_type": "markdown",
   "metadata": {},
   "source": [
    "### 크롤링 함수"
   ]
  },
  {
   "cell_type": "code",
   "execution_count": 3,
   "metadata": {},
   "outputs": [],
   "source": [
    "def naver_crawler(acode, page):\n",
    "    headers = {'User-Agent' : 'Mozilla/5.0 (Macintosh; Intel Mac OS X 10_15_3)'}\n",
    "    total_dt = pd.DataFrame([])\n",
    "    \n",
    "    n_ = 0\n",
    "    for page in range(1, page):\n",
    "        \n",
    "        n_ += 1\n",
    "        if (n_ % 10 == 0):\n",
    "            print('================== Page ' + str(page) + ' is done ==================')\n",
    "\n",
    "        # url = \"https://finance.naver.com/item/board.nhn?code=%s&page=%s\" % (acode, page)\n",
    "        url = \"https://finance.naver.com/item/board.nhn?code=%s&page=%s\" % (str(acode), str(page))\n",
    "\n",
    "        result = requests.get(url, headers = headers)\n",
    "        bs_obj = BeautifulSoup(result.content, \"html.parser\")\n",
    "        table = bs_obj.find('table', {'class' : 'type2'})\n",
    "        tt = table.select('tbody > tr')\n",
    "\n",
    "        for i in range(2, len(tt)):\n",
    "            if len(tt[i].select('td > span')) > 0:\n",
    "              # print(i)\n",
    "              date = tt[i].select('td > span')[0].text\n",
    "              title = tt[i].select('td.title > a')[0]['title']\n",
    "              writer = tt[i].select('td.p11')[0].text.replace('\\t', '').replace('\\n', '')\n",
    "              views = tt[i].select('td > span')[1].text\n",
    "              pos = tt[i].select('td > strong')[0].text\n",
    "              neg = tt[i].select('td > strong')[1].text\n",
    "              # print(date, title, writer, views, pos, neg)\n",
    "              \n",
    "              table = pd.DataFrame({'날짜' : [date], \n",
    "                                    '제목' : [title],\n",
    "                                    '글쓴이' : [writer],\n",
    "                                    '조회' : [views],\n",
    "                                    '공감' : [pos],\n",
    "                                    '비공감' : [neg]\n",
    "                                    })\n",
    "              total_dt = total_dt.append(table)\n",
    "    \n",
    "    return total_dt"
   ]
  },
  {
   "cell_type": "markdown",
   "metadata": {},
   "source": [
    "### 주식 종목별 코드"
   ]
  },
  {
   "cell_type": "code",
   "execution_count": 4,
   "metadata": {},
   "outputs": [],
   "source": [
    "acode={\"호텔신라\":\"008770\",\"두산퓨얼셀\":\"336260\",\"한화솔루션\":\"009830\",\n",
    "      \"ecopro\":\"086520\",\"shinsungeng\":\"011930\",\"unison\":\"018000\",\n",
    "      \"kakao\":\"035720\",\"naver\":\"035420\",\"nc_s\":\"036570\",\n",
    "      \"sds\":\"018260\",\"samsung_e\":\"005930\",\"sk_h\":\"000660\",\n",
    "      \"skc\":\"011790\",\"hansol\":\"014680\",\"DB\":\"000990\",\n",
    "      \"lotte_shoping\":\"023530\",\"shinse\":\"004170\",\"samsungcnt\":\"028260\",\n",
    "      \"dongsuh\":\"026960\",\"kb\":\"105560\",\"korea\":\"071050\",\"shinhan\":\"055550\",\n",
    "      \"woori\":\"316140\",\"hana\":\"086790\"}"
   ]
  },
  {
   "cell_type": "code",
   "execution_count": 5,
   "metadata": {},
   "outputs": [
    {
     "name": "stdout",
     "output_type": "stream",
     "text": [
      "호텔신라 008770\n",
      "두산퓨얼셀 336260\n",
      "한화솔루션 009830\n",
      "ecopro 086520\n",
      "shinsungeng 011930\n",
      "unison 018000\n",
      "kakao 035720\n",
      "naver 035420\n",
      "nc_s 036570\n",
      "sds 018260\n",
      "samsung_e 005930\n",
      "sk_h 000660\n",
      "skc 011790\n",
      "hansol 014680\n",
      "DB 000990\n",
      "lotte_shoping 023530\n",
      "shinse 004170\n",
      "samsungcnt 028260\n",
      "dongsuh 026960\n",
      "kb 105560\n",
      "korea 071050\n",
      "shinhan 055550\n",
      "woori 316140\n",
      "hana 086790\n"
     ]
    }
   ],
   "source": [
    "for k,v in acode.items():\n",
    "    print(k,v)"
   ]
  },
  {
   "cell_type": "code",
   "execution_count": 6,
   "metadata": {},
   "outputs": [
    {
     "name": "stdout",
     "output_type": "stream",
     "text": [
      "호텔신라\n",
      "두산퓨얼셀\n",
      "한화솔루션\n",
      "ecopro\n",
      "shinsungeng\n",
      "unison\n",
      "kakao\n",
      "naver\n",
      "nc_s\n",
      "sds\n",
      "samsung_e\n",
      "sk_h\n",
      "skc\n",
      "hansol\n",
      "DB\n",
      "lotte_shoping\n",
      "shinse\n",
      "samsungcnt\n",
      "dongsuh\n",
      "kb\n",
      "korea\n",
      "shinhan\n",
      "woori\n",
      "hana\n"
     ]
    }
   ],
   "source": [
    "for k,v in acode.items():\n",
    "    print(k)"
   ]
  },
  {
   "cell_type": "markdown",
   "metadata": {},
   "source": [
    "## 40페이지 종목별로 긁어와서 엑셀 파일 저장"
   ]
  },
  {
   "cell_type": "code",
   "execution_count": 7,
   "metadata": {},
   "outputs": [
    {
     "name": "stdout",
     "output_type": "stream",
     "text": [
      "================== Page 10 is done ==================\n",
      "================== Page 20 is done ==================\n",
      "================== Page 30 is done ==================\n",
      "================== Page 10 is done ==================\n",
      "================== Page 20 is done ==================\n",
      "================== Page 30 is done ==================\n",
      "================== Page 10 is done ==================\n",
      "================== Page 20 is done ==================\n",
      "================== Page 30 is done ==================\n",
      "================== Page 10 is done ==================\n",
      "================== Page 20 is done ==================\n",
      "================== Page 30 is done ==================\n",
      "================== Page 10 is done ==================\n",
      "================== Page 20 is done ==================\n",
      "================== Page 30 is done ==================\n",
      "================== Page 10 is done ==================\n",
      "================== Page 20 is done ==================\n",
      "================== Page 30 is done ==================\n",
      "================== Page 10 is done ==================\n",
      "================== Page 20 is done ==================\n",
      "================== Page 30 is done ==================\n",
      "================== Page 10 is done ==================\n",
      "================== Page 20 is done ==================\n",
      "================== Page 30 is done ==================\n",
      "================== Page 10 is done ==================\n",
      "================== Page 20 is done ==================\n",
      "================== Page 30 is done ==================\n",
      "================== Page 10 is done ==================\n",
      "================== Page 20 is done ==================\n",
      "================== Page 30 is done ==================\n",
      "================== Page 10 is done ==================\n",
      "================== Page 20 is done ==================\n",
      "================== Page 30 is done ==================\n",
      "================== Page 10 is done ==================\n",
      "================== Page 20 is done ==================\n",
      "================== Page 30 is done ==================\n",
      "================== Page 10 is done ==================\n",
      "================== Page 20 is done ==================\n",
      "================== Page 30 is done ==================\n",
      "================== Page 10 is done ==================\n",
      "================== Page 20 is done ==================\n",
      "================== Page 30 is done ==================\n",
      "================== Page 10 is done ==================\n",
      "================== Page 20 is done ==================\n",
      "================== Page 30 is done ==================\n",
      "================== Page 10 is done ==================\n",
      "================== Page 20 is done ==================\n",
      "================== Page 30 is done ==================\n",
      "================== Page 10 is done ==================\n",
      "================== Page 20 is done ==================\n",
      "================== Page 30 is done ==================\n",
      "================== Page 10 is done ==================\n",
      "================== Page 20 is done ==================\n",
      "================== Page 30 is done ==================\n",
      "================== Page 10 is done ==================\n",
      "================== Page 20 is done ==================\n",
      "================== Page 30 is done ==================\n",
      "================== Page 10 is done ==================\n",
      "================== Page 20 is done ==================\n",
      "================== Page 30 is done ==================\n",
      "================== Page 10 is done ==================\n",
      "================== Page 20 is done ==================\n",
      "================== Page 30 is done ==================\n",
      "================== Page 10 is done ==================\n",
      "================== Page 20 is done ==================\n",
      "================== Page 30 is done ==================\n",
      "================== Page 10 is done ==================\n",
      "================== Page 20 is done ==================\n",
      "================== Page 30 is done ==================\n",
      "================== Page 10 is done ==================\n",
      "================== Page 20 is done ==================\n",
      "================== Page 30 is done ==================\n"
     ]
    }
   ],
   "source": [
    "writer = pd.ExcelWriter('naver_cr_2.xlsx', engine='xlsxwriter')\n",
    "title=[]\n",
    "for k,v in acode.items():\n",
    "    a = naver_crawler(v,40)\n",
    "    title.append(a)\n",
    "    \n",
    "    "
   ]
  },
  {
   "cell_type": "code",
   "execution_count": 26,
   "metadata": {},
   "outputs": [
    {
     "name": "stdout",
     "output_type": "stream",
     "text": [
      "['호텔신라', '두산퓨얼셀', '한화솔루션', 'ecopro', 'shinsungeng', 'unison', 'kakao', 'naver', 'nc_s', 'sds', 'samsung_e', 'sk_h', 'skc', 'hansol', 'DB', 'lotte_shoping', 'shinse', 'samsungcnt', 'dongsuh', 'kb', 'korea', 'shinhan', 'woori', 'hana']\n"
     ]
    }
   ],
   "source": [
    "# 리스트 형식으로 종목 저장\n",
    "list_name=[]\n",
    "for k,v in acode.items():\n",
    "    list_name.append(k)\n",
    "print(list_name)"
   ]
  },
  {
   "cell_type": "code",
   "execution_count": 27,
   "metadata": {},
   "outputs": [
    {
     "data": {
      "text/plain": [
       "'호텔신라'"
      ]
     },
     "execution_count": 27,
     "metadata": {},
     "output_type": "execute_result"
    }
   ],
   "source": [
    "list_name[0]"
   ]
  },
  {
   "cell_type": "code",
   "execution_count": 30,
   "metadata": {},
   "outputs": [],
   "source": [
    "# 엑셀 파일에 자료 쓰기 (보완 사항 : 몽고 디비)\n",
    "for i in range(0,24):\n",
    "    title[i].to_excel(writer, sheet_name= list_name[i])\n",
    "writer.save()"
   ]
  },
  {
   "cell_type": "code",
   "execution_count": 33,
   "metadata": {},
   "outputs": [
    {
     "data": {
      "text/plain": [
       "\"\\n# 1. 엑셀 파일 열기 w/ExcelWriter\\nwriter = pd.ExcelWriter('naver_cr.xlsx', engine='xlsxwriter')\\n\\n# 2. 시트별 데이터 추가하기(1개 시트로 저장할때와 유사)\\ndoosanfuelcell.to_excel(writer, sheet_name= '두산퓨얼셀')\\nhanwhasolutions.to_excel(writer, sheet_name= '한화솔류션')\\necopro.to_excel(writer, sheet_name= '에코프로')\\nshinsungeng.to_excel(writer, sheet_name= '신성이엔지')\\nunison.to_excel(writer, sheet_name= '유니슨')\\nkakao.to_excel(writer, sheet_name= '카카오')\\nnaver.to_excel(writer, sheet_name= '네이버')\\nnc_s.to_excel(writer, sheet_name= '엔씨소프트')\\nsds.to_excel(writer, sheet_name= 'SDS')\\nsamsung_e.to_excel(writer, sheet_name= '삼성전자')\\nsk_h.to_excel(writer, sheet_name= 'SK하이닉스')\\nskc.to_excel(writer, sheet_name= 'SKC')\\nhansol.to_excel(writer, sheet_name= '한솔케미칼 ')\\nDB.to_excel(writer, sheet_name= 'DB하이텍')\\nlotte_shoping.to_excel(writer, sheet_name= '롯데쇼핑')\\nshinse.to_excel(writer, sheet_name= '신세계')\\ndata_hotel.to_excel(writer, sheet_name= '신라호텔')\\nsamsungcnt.to_excel(writer, sheet_name= '삼성물산')\\ndongsuh.to_excel(writer, sheet_name= '동서')\\nkb.to_excel(writer, sheet_name= 'KB금융')\\nkorea.to_excel(writer, sheet_name= '한국금융')\\nshinhan.to_excel(writer, sheet_name= '신한지주')\\nwoori.to_excel(writer, sheet_name= '우리금융지주')\\nhana.to_excel(writer, sheet_name= '하나금융지주')\\n\\n\\n# 3. 엑셀 파일 저장하기\\nwriter.save()\\n\""
      ]
     },
     "execution_count": 33,
     "metadata": {},
     "output_type": "execute_result"
    }
   ],
   "source": [
    "'''\n",
    "# 1. 엑셀 파일 열기 w/ExcelWriter\n",
    "writer = pd.ExcelWriter('naver_cr.xlsx', engine='xlsxwriter')\n",
    "\n",
    "# 2. 시트별 데이터 추가하기(1개 시트로 저장할때와 유사)\n",
    "doosanfuelcell.to_excel(writer, sheet_name= '두산퓨얼셀')\n",
    "hanwhasolutions.to_excel(writer, sheet_name= '한화솔류션')\n",
    "ecopro.to_excel(writer, sheet_name= '에코프로')\n",
    "shinsungeng.to_excel(writer, sheet_name= '신성이엔지')\n",
    "unison.to_excel(writer, sheet_name= '유니슨')\n",
    "kakao.to_excel(writer, sheet_name= '카카오')\n",
    "naver.to_excel(writer, sheet_name= '네이버')\n",
    "nc_s.to_excel(writer, sheet_name= '엔씨소프트')\n",
    "sds.to_excel(writer, sheet_name= 'SDS')\n",
    "samsung_e.to_excel(writer, sheet_name= '삼성전자')\n",
    "sk_h.to_excel(writer, sheet_name= 'SK하이닉스')\n",
    "skc.to_excel(writer, sheet_name= 'SKC')\n",
    "hansol.to_excel(writer, sheet_name= '한솔케미칼 ')\n",
    "DB.to_excel(writer, sheet_name= 'DB하이텍')\n",
    "lotte_shoping.to_excel(writer, sheet_name= '롯데쇼핑')\n",
    "shinse.to_excel(writer, sheet_name= '신세계')\n",
    "data_hotel.to_excel(writer, sheet_name= '신라호텔')\n",
    "samsungcnt.to_excel(writer, sheet_name= '삼성물산')\n",
    "dongsuh.to_excel(writer, sheet_name= '동서')\n",
    "kb.to_excel(writer, sheet_name= 'KB금융')\n",
    "korea.to_excel(writer, sheet_name= '한국금융')\n",
    "shinhan.to_excel(writer, sheet_name= '신한지주')\n",
    "woori.to_excel(writer, sheet_name= '우리금융지주')\n",
    "hana.to_excel(writer, sheet_name= '하나금융지주')\n",
    "\n",
    "\n",
    "# 3. 엑셀 파일 저장하기\n",
    "writer.save()\n",
    "'''\n"
   ]
  },
  {
   "cell_type": "code",
   "execution_count": null,
   "metadata": {},
   "outputs": [],
   "source": []
  }
 ],
 "metadata": {
  "interpreter": {
   "hash": "b0fa6594d8f4cbf19f97940f81e996739fb7646882a419484c72d19e05852a7e"
  },
  "kernelspec": {
   "display_name": "Python 3",
   "language": "python",
   "name": "python3"
  },
  "language_info": {
   "codemirror_mode": {
    "name": "ipython",
    "version": 3
   },
   "file_extension": ".py",
   "mimetype": "text/x-python",
   "name": "python",
   "nbconvert_exporter": "python",
   "pygments_lexer": "ipython3",
   "version": "3.8.5"
  }
 },
 "nbformat": 4,
 "nbformat_minor": 4
}
