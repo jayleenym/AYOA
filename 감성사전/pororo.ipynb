{
 "cells": [
  {
   "cell_type": "markdown",
   "metadata": {},
   "source": [
    "- 현재 이 노트북만 이상하게 돌아감 Timeout?\n",
    "- 일단 Colab에서 돌리는 중"
   ]
  },
  {
   "cell_type": "code",
   "execution_count": null,
   "metadata": {},
   "outputs": [],
   "source": [
    "import pandas as pd\n",
    "import json\n",
    "from pororo import Pororo\n",
    "\n",
    "SA = Pororo(task = 'sentiment', model = 'brainbert.base.ko.shopping', lang = 'ko')"
   ]
  },
  {
   "cell_type": "code",
   "execution_count": null,
   "metadata": {},
   "outputs": [],
   "source": [
    "NAVER = pd.DataFrame([json.loads(line) for line in open('../preprocess/naver_1114.json', 'r', encoding = 'utf8').readlines()])\n",
    "# code, date, title, view, recommend 다 같으면 중복으로 처리\n",
    "NAVER.drop_duplicates(subset = NAVER.columns[1:], inplace=True)\n",
    "\n",
    "NAVER.head()"
   ]
  },
  {
   "cell_type": "code",
   "execution_count": null,
   "metadata": {},
   "outputs": [],
   "source": [
    "NAVER['labeling'] = NAVER.title.apply(lambda x: 0 if abs(SA(x, show_probs = True)['negative'] - SA(x, show_probs = True)['positive']) * 100 <= 10 \n",
    "                       else -1 if SA(x) == \"Negative\" else 1)"
   ]
  },
  {
   "cell_type": "code",
   "execution_count": null,
   "metadata": {},
   "outputs": [],
   "source": []
  }
 ],
 "metadata": {
  "interpreter": {
   "hash": "40d3a090f54c6569ab1632332b64b2c03c39dcf918b08424e98f38b5ae0af88f"
  },
  "kernelspec": {
   "display_name": "Python 3.8.5 64-bit ('base': conda)",
   "language": "python",
   "name": "python3"
  },
  "language_info": {
   "codemirror_mode": {
    "name": "ipython",
    "version": 3
   },
   "file_extension": ".py",
   "mimetype": "text/x-python",
   "name": "python",
   "nbconvert_exporter": "python",
   "pygments_lexer": "ipython3",
   "version": "3.8.5"
  },
  "orig_nbformat": 4
 },
 "nbformat": 4,
 "nbformat_minor": 2
}
